{
 "cells": [
  {
   "cell_type": "markdown",
   "metadata": {},
   "source": [
    "<br><h1> <img src=\"https://serea2017.uniandes.edu.co/images/Logo.png\" height=\"120\" width=\"400\" align=\"Center\" /><br>\n",
    "\n",
    "# MIIIA Advanced Models: Ejercicio 7 Bagging - 29 Jun 2020\n",
    "\n",
    "                     Names                 User        Code\n",
    "           - Alexander Camargo García   a.camargo733   200911325\n",
    "           - Jaime Orjuela Viracachá    j.orjuelav     201924252\n",
    "           - Jairo Pedraza Corredor     j.pedraza      201924260\n",
    "           - Elquin Huertas Ramírez     e.huertas      201920061"
   ]
  },
  {
   "cell_type": "markdown",
   "metadata": {},
   "source": [
    "# Part 1 - DT\n",
    "\n",
    "## Capital Bikeshare data"
   ]
  },
  {
   "cell_type": "markdown",
   "metadata": {},
   "source": [
    "## Introduction\n",
    "\n",
    "- Capital Bikeshare dataset from Kaggle: [data](https://github.com/justmarkham/DAT8/blob/master/data/bikeshare.csv), [data dictionary](https://www.kaggle.com/c/bike-sharing-demand/data)\n",
    "- Each observation represents the bikeshare rentals initiated during a given hour of a given day"
   ]
  },
  {
   "cell_type": "code",
   "execution_count": 2,
   "metadata": {},
   "outputs": [],
   "source": [
    "%matplotlib inline\n",
    "import pandas as pd\n",
    "import numpy as np\n",
    "from sklearn.model_selection import cross_val_score\n",
    "from sklearn.linear_model import LinearRegression\n",
    "from sklearn.tree import DecisionTreeRegressor, export_graphviz"
   ]
  },
  {
   "cell_type": "code",
   "execution_count": 3,
   "metadata": {},
   "outputs": [],
   "source": [
    "# read the data and set \"datetime\" as the index\n",
    "bikes = pd.read_csv('../datasets/bikeshare.csv', index_col='datetime', parse_dates=True)"
   ]
  },
  {
   "cell_type": "code",
   "execution_count": 4,
   "metadata": {},
   "outputs": [],
   "source": [
    "# \"count\" is a method, so it's best to rename that column\n",
    "bikes.rename(columns={'count':'total'}, inplace=True)"
   ]
  },
  {
   "cell_type": "code",
   "execution_count": 5,
   "metadata": {},
   "outputs": [],
   "source": [
    "# create \"hour\" as its own feature\n",
    "bikes['hour'] = bikes.index.hour"
   ]
  },
  {
   "cell_type": "code",
   "execution_count": 6,
   "metadata": {},
   "outputs": [
    {
     "data": {
      "text/html": [
       "<div>\n",
       "<style scoped>\n",
       "    .dataframe tbody tr th:only-of-type {\n",
       "        vertical-align: middle;\n",
       "    }\n",
       "\n",
       "    .dataframe tbody tr th {\n",
       "        vertical-align: top;\n",
       "    }\n",
       "\n",
       "    .dataframe thead th {\n",
       "        text-align: right;\n",
       "    }\n",
       "</style>\n",
       "<table border=\"1\" class=\"dataframe\">\n",
       "  <thead>\n",
       "    <tr style=\"text-align: right;\">\n",
       "      <th></th>\n",
       "      <th>season</th>\n",
       "      <th>holiday</th>\n",
       "      <th>workingday</th>\n",
       "      <th>weather</th>\n",
       "      <th>temp</th>\n",
       "      <th>atemp</th>\n",
       "      <th>humidity</th>\n",
       "      <th>windspeed</th>\n",
       "      <th>casual</th>\n",
       "      <th>registered</th>\n",
       "      <th>total</th>\n",
       "      <th>hour</th>\n",
       "    </tr>\n",
       "    <tr>\n",
       "      <th>datetime</th>\n",
       "      <th></th>\n",
       "      <th></th>\n",
       "      <th></th>\n",
       "      <th></th>\n",
       "      <th></th>\n",
       "      <th></th>\n",
       "      <th></th>\n",
       "      <th></th>\n",
       "      <th></th>\n",
       "      <th></th>\n",
       "      <th></th>\n",
       "      <th></th>\n",
       "    </tr>\n",
       "  </thead>\n",
       "  <tbody>\n",
       "    <tr>\n",
       "      <th>2011-01-01 00:00:00</th>\n",
       "      <td>1</td>\n",
       "      <td>0</td>\n",
       "      <td>0</td>\n",
       "      <td>1</td>\n",
       "      <td>9.84</td>\n",
       "      <td>14.395</td>\n",
       "      <td>81</td>\n",
       "      <td>0.0</td>\n",
       "      <td>3</td>\n",
       "      <td>13</td>\n",
       "      <td>16</td>\n",
       "      <td>0</td>\n",
       "    </tr>\n",
       "    <tr>\n",
       "      <th>2011-01-01 01:00:00</th>\n",
       "      <td>1</td>\n",
       "      <td>0</td>\n",
       "      <td>0</td>\n",
       "      <td>1</td>\n",
       "      <td>9.02</td>\n",
       "      <td>13.635</td>\n",
       "      <td>80</td>\n",
       "      <td>0.0</td>\n",
       "      <td>8</td>\n",
       "      <td>32</td>\n",
       "      <td>40</td>\n",
       "      <td>1</td>\n",
       "    </tr>\n",
       "    <tr>\n",
       "      <th>2011-01-01 02:00:00</th>\n",
       "      <td>1</td>\n",
       "      <td>0</td>\n",
       "      <td>0</td>\n",
       "      <td>1</td>\n",
       "      <td>9.02</td>\n",
       "      <td>13.635</td>\n",
       "      <td>80</td>\n",
       "      <td>0.0</td>\n",
       "      <td>5</td>\n",
       "      <td>27</td>\n",
       "      <td>32</td>\n",
       "      <td>2</td>\n",
       "    </tr>\n",
       "    <tr>\n",
       "      <th>2011-01-01 03:00:00</th>\n",
       "      <td>1</td>\n",
       "      <td>0</td>\n",
       "      <td>0</td>\n",
       "      <td>1</td>\n",
       "      <td>9.84</td>\n",
       "      <td>14.395</td>\n",
       "      <td>75</td>\n",
       "      <td>0.0</td>\n",
       "      <td>3</td>\n",
       "      <td>10</td>\n",
       "      <td>13</td>\n",
       "      <td>3</td>\n",
       "    </tr>\n",
       "    <tr>\n",
       "      <th>2011-01-01 04:00:00</th>\n",
       "      <td>1</td>\n",
       "      <td>0</td>\n",
       "      <td>0</td>\n",
       "      <td>1</td>\n",
       "      <td>9.84</td>\n",
       "      <td>14.395</td>\n",
       "      <td>75</td>\n",
       "      <td>0.0</td>\n",
       "      <td>0</td>\n",
       "      <td>1</td>\n",
       "      <td>1</td>\n",
       "      <td>4</td>\n",
       "    </tr>\n",
       "  </tbody>\n",
       "</table>\n",
       "</div>"
      ],
      "text/plain": [
       "                     season  holiday  workingday  weather  temp   atemp  \\\n",
       "datetime                                                                  \n",
       "2011-01-01 00:00:00       1        0           0        1  9.84  14.395   \n",
       "2011-01-01 01:00:00       1        0           0        1  9.02  13.635   \n",
       "2011-01-01 02:00:00       1        0           0        1  9.02  13.635   \n",
       "2011-01-01 03:00:00       1        0           0        1  9.84  14.395   \n",
       "2011-01-01 04:00:00       1        0           0        1  9.84  14.395   \n",
       "\n",
       "                     humidity  windspeed  casual  registered  total  hour  \n",
       "datetime                                                                   \n",
       "2011-01-01 00:00:00        81        0.0       3          13     16     0  \n",
       "2011-01-01 01:00:00        80        0.0       8          32     40     1  \n",
       "2011-01-01 02:00:00        80        0.0       5          27     32     2  \n",
       "2011-01-01 03:00:00        75        0.0       3          10     13     3  \n",
       "2011-01-01 04:00:00        75        0.0       0           1      1     4  "
      ]
     },
     "execution_count": 6,
     "metadata": {},
     "output_type": "execute_result"
    }
   ],
   "source": [
    "bikes.head()"
   ]
  },
  {
   "cell_type": "code",
   "execution_count": 7,
   "metadata": {},
   "outputs": [
    {
     "data": {
      "text/html": [
       "<div>\n",
       "<style scoped>\n",
       "    .dataframe tbody tr th:only-of-type {\n",
       "        vertical-align: middle;\n",
       "    }\n",
       "\n",
       "    .dataframe tbody tr th {\n",
       "        vertical-align: top;\n",
       "    }\n",
       "\n",
       "    .dataframe thead th {\n",
       "        text-align: right;\n",
       "    }\n",
       "</style>\n",
       "<table border=\"1\" class=\"dataframe\">\n",
       "  <thead>\n",
       "    <tr style=\"text-align: right;\">\n",
       "      <th></th>\n",
       "      <th>season</th>\n",
       "      <th>holiday</th>\n",
       "      <th>workingday</th>\n",
       "      <th>weather</th>\n",
       "      <th>temp</th>\n",
       "      <th>atemp</th>\n",
       "      <th>humidity</th>\n",
       "      <th>windspeed</th>\n",
       "      <th>casual</th>\n",
       "      <th>registered</th>\n",
       "      <th>total</th>\n",
       "      <th>hour</th>\n",
       "    </tr>\n",
       "    <tr>\n",
       "      <th>datetime</th>\n",
       "      <th></th>\n",
       "      <th></th>\n",
       "      <th></th>\n",
       "      <th></th>\n",
       "      <th></th>\n",
       "      <th></th>\n",
       "      <th></th>\n",
       "      <th></th>\n",
       "      <th></th>\n",
       "      <th></th>\n",
       "      <th></th>\n",
       "      <th></th>\n",
       "    </tr>\n",
       "  </thead>\n",
       "  <tbody>\n",
       "    <tr>\n",
       "      <th>2012-12-19 19:00:00</th>\n",
       "      <td>4</td>\n",
       "      <td>0</td>\n",
       "      <td>1</td>\n",
       "      <td>1</td>\n",
       "      <td>15.58</td>\n",
       "      <td>19.695</td>\n",
       "      <td>50</td>\n",
       "      <td>26.0027</td>\n",
       "      <td>7</td>\n",
       "      <td>329</td>\n",
       "      <td>336</td>\n",
       "      <td>19</td>\n",
       "    </tr>\n",
       "    <tr>\n",
       "      <th>2012-12-19 20:00:00</th>\n",
       "      <td>4</td>\n",
       "      <td>0</td>\n",
       "      <td>1</td>\n",
       "      <td>1</td>\n",
       "      <td>14.76</td>\n",
       "      <td>17.425</td>\n",
       "      <td>57</td>\n",
       "      <td>15.0013</td>\n",
       "      <td>10</td>\n",
       "      <td>231</td>\n",
       "      <td>241</td>\n",
       "      <td>20</td>\n",
       "    </tr>\n",
       "    <tr>\n",
       "      <th>2012-12-19 21:00:00</th>\n",
       "      <td>4</td>\n",
       "      <td>0</td>\n",
       "      <td>1</td>\n",
       "      <td>1</td>\n",
       "      <td>13.94</td>\n",
       "      <td>15.910</td>\n",
       "      <td>61</td>\n",
       "      <td>15.0013</td>\n",
       "      <td>4</td>\n",
       "      <td>164</td>\n",
       "      <td>168</td>\n",
       "      <td>21</td>\n",
       "    </tr>\n",
       "    <tr>\n",
       "      <th>2012-12-19 22:00:00</th>\n",
       "      <td>4</td>\n",
       "      <td>0</td>\n",
       "      <td>1</td>\n",
       "      <td>1</td>\n",
       "      <td>13.94</td>\n",
       "      <td>17.425</td>\n",
       "      <td>61</td>\n",
       "      <td>6.0032</td>\n",
       "      <td>12</td>\n",
       "      <td>117</td>\n",
       "      <td>129</td>\n",
       "      <td>22</td>\n",
       "    </tr>\n",
       "    <tr>\n",
       "      <th>2012-12-19 23:00:00</th>\n",
       "      <td>4</td>\n",
       "      <td>0</td>\n",
       "      <td>1</td>\n",
       "      <td>1</td>\n",
       "      <td>13.12</td>\n",
       "      <td>16.665</td>\n",
       "      <td>66</td>\n",
       "      <td>8.9981</td>\n",
       "      <td>4</td>\n",
       "      <td>84</td>\n",
       "      <td>88</td>\n",
       "      <td>23</td>\n",
       "    </tr>\n",
       "  </tbody>\n",
       "</table>\n",
       "</div>"
      ],
      "text/plain": [
       "                     season  holiday  workingday  weather   temp   atemp  \\\n",
       "datetime                                                                   \n",
       "2012-12-19 19:00:00       4        0           1        1  15.58  19.695   \n",
       "2012-12-19 20:00:00       4        0           1        1  14.76  17.425   \n",
       "2012-12-19 21:00:00       4        0           1        1  13.94  15.910   \n",
       "2012-12-19 22:00:00       4        0           1        1  13.94  17.425   \n",
       "2012-12-19 23:00:00       4        0           1        1  13.12  16.665   \n",
       "\n",
       "                     humidity  windspeed  casual  registered  total  hour  \n",
       "datetime                                                                   \n",
       "2012-12-19 19:00:00        50    26.0027       7         329    336    19  \n",
       "2012-12-19 20:00:00        57    15.0013      10         231    241    20  \n",
       "2012-12-19 21:00:00        61    15.0013       4         164    168    21  \n",
       "2012-12-19 22:00:00        61     6.0032      12         117    129    22  \n",
       "2012-12-19 23:00:00        66     8.9981       4          84     88    23  "
      ]
     },
     "execution_count": 7,
     "metadata": {},
     "output_type": "execute_result"
    }
   ],
   "source": [
    "bikes.tail()"
   ]
  },
  {
   "cell_type": "markdown",
   "metadata": {},
   "source": [
    "- **hour** ranges from 0 (midnight) through 23 (11pm)\n",
    "- **workingday** is either 0 (weekend or holiday) or 1 (non-holiday weekday)"
   ]
  },
  {
   "cell_type": "markdown",
   "metadata": {},
   "source": [
    "# Exercise 7.1\n",
    "\n",
    "Run these two `groupby` statements and figure out what they tell you about the data."
   ]
  },
  {
   "cell_type": "code",
   "execution_count": 8,
   "metadata": {},
   "outputs": [
    {
     "data": {
      "text/plain": [
       "workingday\n",
       "0    188.506621\n",
       "1    193.011873\n",
       "Name: total, dtype: float64"
      ]
     },
     "execution_count": 8,
     "metadata": {},
     "output_type": "execute_result"
    }
   ],
   "source": [
    "# mean rentals for each value of \"workingday\"\n",
    "bikes.groupby('workingday').total.mean()"
   ]
  },
  {
   "cell_type": "markdown",
   "metadata": {},
   "source": [
    "Teniendo en cuenta que el conjunto de datos se refiere a la cantidad de bicicletas rentadas por hora durante dos años, esta agrupación muestra que el valor esperado de renta por hora en días hábiles es 188.5 mientras que para días no hábiles es de 193. Tambien se observa en general que el promedio de bicicletas rentadas no cambia mucho entre días hábiles y días no hábiles."
   ]
  },
  {
   "cell_type": "code",
   "execution_count": 9,
   "metadata": {},
   "outputs": [
    {
     "data": {
      "text/plain": [
       "hour\n",
       "0      55.138462\n",
       "1      33.859031\n",
       "2      22.899554\n",
       "3      11.757506\n",
       "4       6.407240\n",
       "5      19.767699\n",
       "6      76.259341\n",
       "7     213.116484\n",
       "8     362.769231\n",
       "9     221.780220\n",
       "10    175.092308\n",
       "11    210.674725\n",
       "12    256.508772\n",
       "13    257.787281\n",
       "14    243.442982\n",
       "15    254.298246\n",
       "16    316.372807\n",
       "17    468.765351\n",
       "18    430.859649\n",
       "19    315.278509\n",
       "20    228.517544\n",
       "21    173.370614\n",
       "22    133.576754\n",
       "23     89.508772\n",
       "Name: total, dtype: float64"
      ]
     },
     "execution_count": 9,
     "metadata": {},
     "output_type": "execute_result"
    }
   ],
   "source": [
    "# mean rentals for each value of \"hour\"\n",
    "hourly=bikes.groupby('hour').total.mean()\n",
    "hourly"
   ]
  },
  {
   "cell_type": "code",
   "execution_count": 10,
   "metadata": {},
   "outputs": [
    {
     "data": {
      "text/plain": [
       "<BarContainer object of 24 artists>"
      ]
     },
     "execution_count": 10,
     "metadata": {},
     "output_type": "execute_result"
    },
    {
     "data": {
      "image/png": "[encoded data removed]",
      "text/plain": [
       "<Figure size 432x288 with 1 Axes>"
      ]
     },
     "metadata": {
      "needs_background": "light"
     },
     "output_type": "display_data"
    }
   ],
   "source": [
    "import matplotlib.pyplot as plt\n",
    "plt.bar(range(24),hourly)"
   ]
  },
  {
   "cell_type": "markdown",
   "metadata": {},
   "source": [
    "En general el total de bicicletas rentadas por hora,nos muestra que las  franjas horarias mejor desempeño de renta son las 17:00 y las 18:00 seguido por 8:00 que coincide con la horas pico, donde se tiene la mayor cantidad de movilización de personas de acuerdo a los horarios de ingreso y salida de la mayoría de establecimientos comerciales, administrativos y educativos. "
   ]
  },
  {
   "cell_type": "markdown",
   "metadata": {},
   "source": [
    "# Exercise 7.2\n",
    "\n",
    "Run this plotting code, and make sure you understand the output. Then, separate this plot into two separate plots conditioned on \"workingday\". (In other words, one plot should display the hourly trend for \"workingday=0\", and the other should display the hourly trend for \"workingday=1\".)"
   ]
  },
  {
   "cell_type": "code",
   "execution_count": 11,
   "metadata": {},
   "outputs": [
    {
     "data": {
      "text/plain": [
       "<matplotlib.axes._subplots.AxesSubplot at 0x19091846400>"
      ]
     },
     "execution_count": 11,
     "metadata": {},
     "output_type": "execute_result"
    },
    {
     "data": {
      "image/png": "[encoded data removed]",
      "text/plain": [
       "<Figure size 432x288 with 1 Axes>"
      ]
     },
     "metadata": {
      "needs_background": "light"
     },
     "output_type": "display_data"
    }
   ],
   "source": [
    "# mean rentals for each value of \"hour\"\n",
    "bikes.groupby('hour').total.mean().plot()"
   ]
  },
  {
   "cell_type": "markdown",
   "metadata": {},
   "source": [
    "Plot for workingday == 0 and workingday == 1"
   ]
  },
  {
   "cell_type": "code",
   "execution_count": 12,
   "metadata": {},
   "outputs": [
    {
     "data": {
      "text/plain": [
       "<matplotlib.axes._subplots.AxesSubplot at 0x19091bd0908>"
      ]
     },
     "execution_count": 12,
     "metadata": {},
     "output_type": "execute_result"
    },
    {
     "data": {
      "image/png": "[encoded data removed]",
      "text/plain": [
       "<Figure size 432x288 with 1 Axes>"
      ]
     },
     "metadata": {
      "needs_background": "light"
     },
     "output_type": "display_data"
    }
   ],
   "source": [
    "# hourly rental trend for \"workingday=0\"\n",
    "bikes[bikes.workingday==0].groupby('hour').total.mean().plot()"
   ]
  },
  {
   "cell_type": "code",
   "execution_count": 13,
   "metadata": {},
   "outputs": [
    {
     "data": {
      "text/plain": [
       "<matplotlib.axes._subplots.AxesSubplot at 0x19091c10978>"
      ]
     },
     "execution_count": 13,
     "metadata": {},
     "output_type": "execute_result"
    },
    {
     "data": {
      "image/png": "[encoded data removed]",
      "text/plain": [
       "<Figure size 432x288 with 1 Axes>"
      ]
     },
     "metadata": {
      "needs_background": "light"
     },
     "output_type": "display_data"
    }
   ],
   "source": [
    "# hourly rental trend for \"workingday=1\"\n",
    "bikes[bikes.workingday==1].groupby('hour').total.mean().plot()"
   ]
  },
  {
   "cell_type": "code",
   "execution_count": 14,
   "metadata": {},
   "outputs": [
    {
     "data": {
      "text/plain": [
       "<matplotlib.axes._subplots.AxesSubplot at 0x19091c8db38>"
      ]
     },
     "execution_count": 14,
     "metadata": {},
     "output_type": "execute_result"
    },
    {
     "data": {
      "image/png": "[encoded data removed]",
      "text/plain": [
       "<Figure size 432x288 with 1 Axes>"
      ]
     },
     "metadata": {
      "needs_background": "light"
     },
     "output_type": "display_data"
    }
   ],
   "source": [
    "# combine the two plots\n",
    "bikes.groupby(['hour', 'workingday']).total.mean().unstack().plot()"
   ]
  },
  {
   "cell_type": "markdown",
   "metadata": {},
   "source": [
    "Write about your findings"
   ]
  },
  {
   "cell_type": "markdown",
   "metadata": {},
   "source": [
    "Comparando el comportamiento del alquiler por hora en días hábiles y no hábiles, se encuentran dos picos en días hábiles a las 8:00 y a las 17:00 que coincide con los horarios de inicio y finalización de actividades de la mayoría de establecimientos comerciales, administrativos y educativos; mientras que para los días no hábiles hay un aumento paulatino que se hace máximo cerca al medio día que coincide con la hora del almuerzo. En general la distribución de renta de bicicletas yiene un comportamiento muy diferente en días hábiles y no hábiles. Por otra parte ninguna de las dos distribución seguen un comportamiento lineal"
   ]
  },
  {
   "cell_type": "markdown",
   "metadata": {},
   "source": [
    "# Exercise 7.3\n",
    "\n",
    "Fit a linear regression model to the entire dataset, using \"total\" as the response and \"hour\" and \"workingday\" as the only features. Then, print the coefficients and interpret them. What are the limitations of linear regression in this instance?"
   ]
  },
  {
   "cell_type": "markdown",
   "metadata": {},
   "source": [
    "## Partición de la base"
   ]
  },
  {
   "cell_type": "code",
   "execution_count": 15,
   "metadata": {},
   "outputs": [],
   "source": [
    "#Definicion de bases\n",
    "y = bikes['total']\n",
    "x= bikes[['hour','workingday']]"
   ]
  },
  {
   "cell_type": "code",
   "execution_count": 16,
   "metadata": {},
   "outputs": [],
   "source": [
    "# Partición de la base en train/test\n",
    "from sklearn.model_selection import train_test_split\n",
    "x_train, x_test, y_train, y_test = train_test_split(x, y, random_state=1)"
   ]
  },
  {
   "cell_type": "code",
   "execution_count": 56,
   "metadata": {},
   "outputs": [],
   "source": [
    "#Ajuste de la regresiopn lineal\n",
    "import pandas as pd  \n",
    "import numpy as np  \n",
    "import matplotlib.pyplot as plt  \n",
    "import statsmodels.api as sm \n",
    "from scipy import stats \n",
    "%matplotlib inline"
   ]
  },
  {
   "cell_type": "code",
   "execution_count": 59,
   "metadata": {
    "scrolled": true
   },
   "outputs": [
    {
     "data": {
      "text/html": [
       "<table class=\"simpletable\">\n",
       "<caption>OLS Regression Results</caption>\n",
       "<tr>\n",
       "  <th>Dep. Variable:</th>          <td>total</td>      <th>  R-squared:         </th> <td>   0.163</td> \n",
       "</tr>\n",
       "<tr>\n",
       "  <th>Model:</th>                   <td>OLS</td>       <th>  Adj. R-squared:    </th> <td>   0.163</td> \n",
       "</tr>\n",
       "<tr>\n",
       "  <th>Method:</th>             <td>Least Squares</td>  <th>  F-statistic:       </th> <td>   795.3</td> \n",
       "</tr>\n",
       "<tr>\n",
       "  <th>Date:</th>             <td>Mon, 29 Jun 2020</td> <th>  Prob (F-statistic):</th> <td>2.76e-316</td>\n",
       "</tr>\n",
       "<tr>\n",
       "  <th>Time:</th>                 <td>20:19:21</td>     <th>  Log-Likelihood:    </th> <td> -53252.</td> \n",
       "</tr>\n",
       "<tr>\n",
       "  <th>No. Observations:</th>      <td>  8164</td>      <th>  AIC:               </th> <td>1.065e+05</td>\n",
       "</tr>\n",
       "<tr>\n",
       "  <th>Df Residuals:</th>          <td>  8161</td>      <th>  BIC:               </th> <td>1.065e+05</td>\n",
       "</tr>\n",
       "<tr>\n",
       "  <th>Df Model:</th>              <td>     2</td>      <th>                     </th>     <td> </td>    \n",
       "</tr>\n",
       "<tr>\n",
       "  <th>Covariance Type:</th>      <td>nonrobust</td>    <th>                     </th>     <td> </td>    \n",
       "</tr>\n",
       "</table>\n",
       "<table class=\"simpletable\">\n",
       "<tr>\n",
       "       <td></td>         <th>coef</th>     <th>std err</th>      <th>t</th>      <th>P>|t|</th>  <th>[0.025</th>    <th>0.975]</th>  \n",
       "</tr>\n",
       "<tr>\n",
       "  <th>const</th>      <td>   65.5112</td> <td>    4.432</td> <td>   14.781</td> <td> 0.000</td> <td>   56.823</td> <td>   74.199</td>\n",
       "</tr>\n",
       "<tr>\n",
       "  <th>hour</th>       <td>   10.4936</td> <td>    0.263</td> <td>   39.861</td> <td> 0.000</td> <td>    9.978</td> <td>   11.010</td>\n",
       "</tr>\n",
       "<tr>\n",
       "  <th>workingday</th> <td>    5.2094</td> <td>    3.915</td> <td>    1.331</td> <td> 0.183</td> <td>   -2.464</td> <td>   12.883</td>\n",
       "</tr>\n",
       "</table>\n",
       "<table class=\"simpletable\">\n",
       "<tr>\n",
       "  <th>Omnibus:</th>       <td>1732.889</td> <th>  Durbin-Watson:     </th> <td>   2.031</td>\n",
       "</tr>\n",
       "<tr>\n",
       "  <th>Prob(Omnibus):</th>  <td> 0.000</td>  <th>  Jarque-Bera (JB):  </th> <td>3416.072</td>\n",
       "</tr>\n",
       "<tr>\n",
       "  <th>Skew:</th>           <td> 1.281</td>  <th>  Prob(JB):          </th> <td>    0.00</td>\n",
       "</tr>\n",
       "<tr>\n",
       "  <th>Kurtosis:</th>       <td> 4.866</td>  <th>  Cond. No.          </th> <td>    39.2</td>\n",
       "</tr>\n",
       "</table><br/><br/>Warnings:<br/>[1] Standard Errors assume that the covariance matrix of the errors is correctly specified."
      ],
      "text/plain": [
       "<class 'statsmodels.iolib.summary.Summary'>\n",
       "\"\"\"\n",
       "                            OLS Regression Results                            \n",
       "==============================================================================\n",
       "Dep. Variable:                  total   R-squared:                       0.163\n",
       "Model:                            OLS   Adj. R-squared:                  0.163\n",
       "Method:                 Least Squares   F-statistic:                     795.3\n",
       "Date:                Mon, 29 Jun 2020   Prob (F-statistic):          2.76e-316\n",
       "Time:                        20:19:21   Log-Likelihood:                -53252.\n",
       "No. Observations:                8164   AIC:                         1.065e+05\n",
       "Df Residuals:                    8161   BIC:                         1.065e+05\n",
       "Df Model:                           2                                         \n",
       "Covariance Type:            nonrobust                                         \n",
       "==============================================================================\n",
       "                 coef    std err          t      P>|t|      [0.025      0.975]\n",
       "------------------------------------------------------------------------------\n",
       "const         65.5112      4.432     14.781      0.000      56.823      74.199\n",
       "hour          10.4936      0.263     39.861      0.000       9.978      11.010\n",
       "workingday     5.2094      3.915      1.331      0.183      -2.464      12.883\n",
       "==============================================================================\n",
       "Omnibus:                     1732.889   Durbin-Watson:                   2.031\n",
       "Prob(Omnibus):                  0.000   Jarque-Bera (JB):             3416.072\n",
       "Skew:                           1.281   Prob(JB):                         0.00\n",
       "Kurtosis:                       4.866   Cond. No.                         39.2\n",
       "==============================================================================\n",
       "\n",
       "Warnings:\n",
       "[1] Standard Errors assume that the covariance matrix of the errors is correctly specified.\n",
       "\"\"\""
      ]
     },
     "execution_count": 59,
     "metadata": {},
     "output_type": "execute_result"
    }
   ],
   "source": [
    "#ajustamos el modelo con los datos de train\n",
    "x_train_cons = sm.add_constant(x_train) \n",
    "lr = sm.OLS(y_train, x_train_cons) \n",
    "regressor_lin=lr.fit() #training the algorithm\n",
    "regressor_lin.summary()"
   ]
  },
  {
   "cell_type": "markdown",
   "metadata": {},
   "source": [
    "#### Conclusión:\n",
    "Para el ajuste de la regresión lineal lo primero que se observa es que la variable 'workinday' no es significativa con un nivel de significancia del 5%, por otra parte la relación lineal entre 'hours' y el total de bicicletas retadas es positiva, esto significa que por cada hora que incremente en la variable 'hours', la renta de bicicletas incrementa 10.49 unidades, por otra parte.\n",
    "Sin embargo el ajuste del modelo no es bueno, ya que según el R-cuadrado solo se está explicando el 16% de los datos. Por otra parte los indicadores del BIC y el AIC son demasiado grandes.\n",
    "El problema de ajustar una regresión lineal a la renta total de bicicletas, en función de las horas y workinday es que según los gráficos observados en los análisis estos no siguen un comportamiento ni una relación lineal, debido al comportamiento muy particular de la renta de bicicletas en las horas picos y en los fines de semana en horas valle. La recomendación es ajustar otrs modelos que no sigan un ajuste lineal."
   ]
  },
  {
   "cell_type": "markdown",
   "metadata": {},
   "source": [
    "# Exercice 7.4\n",
    "\n",
    "Create a Decision Tree to forecast \"total\" by manually iterating over the features \"hour\" and \"workingday\". The algorithm must at least have 6 end nodes."
   ]
  },
  {
   "cell_type": "markdown",
   "metadata": {},
   "source": [
    "Para realizar el arbol de forma manual, es necesario definir previo las funciones para caulcular el Gini, el gini_impurity y la función para evaluar las particiones "
   ]
  },
  {
   "cell_type": "code",
   "execution_count": 170,
   "metadata": {},
   "outputs": [],
   "source": [
    "def gini(y):\n",
    "    if y.shape[0] == 0:\n",
    "        return 0\n",
    "    else:\n",
    "        return 1 - (y.mean()**2 + (1 - y.mean())**2)"
   ]
  },
  {
   "cell_type": "code",
   "execution_count": 171,
   "metadata": {},
   "outputs": [],
   "source": [
    "def gini_impurity(X_col, y, split):\n",
    "    \"Calculate the gain of an split k on feature j\"\n",
    "    \n",
    "    filter_l = X_col < split\n",
    "    y_l = y.loc[filter_l]\n",
    "    y_r = y.loc[~filter_l]\n",
    "    \n",
    "    n_l = y_l.shape[0]\n",
    "    n_r = y_r.shape[0]\n",
    "    \n",
    "    gini_y = gini(y)\n",
    "    gini_l = gini(y_l)\n",
    "    gini_r = gini(y_r)\n",
    "    \n",
    "    gini_impurity_ = gini_y - (n_l / (n_l + n_r) * gini_l + n_r / (n_l + n_r) * gini_r)\n",
    "    \n",
    "    return gini_impurity_"
   ]
  },
  {
   "cell_type": "code",
   "execution_count": 172,
   "metadata": {},
   "outputs": [],
   "source": [
    "def best_split(X, y, num_pct=10):\n",
    "    \n",
    "    features = range(X.shape[1])\n",
    "    \n",
    "    best_split = [0, 0, 0]  # j, split, gain\n",
    "    \n",
    "    # For all features\n",
    "    for j in features:\n",
    "        \n",
    "        splits = np.percentile(X.iloc[:, j], np.arange(0, 100, 100.0 / (num_pct+1)).tolist())\n",
    "        splits = np.unique(splits)[1:]\n",
    "        \n",
    "        # For all splits\n",
    "        for split in splits:\n",
    "            gain = gini_impurity(X.iloc[:, j], y, split)\n",
    "                        \n",
    "            if gain > best_split[2]:\n",
    "                best_split = [j, split, gain]\n",
    "    \n",
    "    return best_split"
   ]
  },
  {
   "cell_type": "markdown",
   "metadata": {},
   "source": [
    " Ahora definimos la función que simula un decisiontree"
   ]
  },
  {
   "cell_type": "code",
   "execution_count": 173,
   "metadata": {},
   "outputs": [],
   "source": [
    "def tree_grow(X, y, level=0, min_gain=0.001, max_depth=None, num_pct=10):\n",
    "    \n",
    "    # If only one observation\n",
    "    if X.shape[0] == 1:\n",
    "        tree = dict(y_pred=y.iloc[:1].values[0], y_prob=0.5, level=level, split=-1, n_samples=1, gain=0)\n",
    "        return tree\n",
    "    \n",
    "    # Calculate the best split\n",
    "    j, split, gain = best_split(X, y, num_pct)\n",
    "    \n",
    "    # save tree and estimate prediction\n",
    "    y_pred = int(y.mean() >= 0.5) \n",
    "    y_prob = (y.sum() + 1.0) / (y.shape[0] + 2.0)  # Laplace correction\n",
    "    \n",
    "    tree = dict(y_pred=y_pred, y_prob=y_prob, level=level, split=-1, n_samples=X.shape[0], gain=gain)\n",
    "    \n",
    "    # Check stooping criteria\n",
    "    if gain < min_gain:\n",
    "        return tree\n",
    "    if max_depth is not None:\n",
    "        if level >= max_depth:\n",
    "            return tree   \n",
    "    \n",
    "    # No stooping criteria was meet, then continue to create the partition\n",
    "    filter_l = X.iloc[:, j] < split\n",
    "    X_l, y_l = X.loc[filter_l], y.loc[filter_l]\n",
    "    X_r, y_r = X.loc[~filter_l], y.loc[~filter_l]\n",
    "    tree['split'] = [j, split]\n",
    "\n",
    "    # Next iteration to each split\n",
    "    \n",
    "    tree['sl'] = tree_grow(X_l, y_l, level + 1, min_gain=min_gain, max_depth=max_depth, num_pct=num_pct)\n",
    "    tree['sr'] = tree_grow(X_r, y_r, level + 1, min_gain=min_gain, max_depth=max_depth, num_pct=num_pct)\n",
    "    \n",
    "    return tree"
   ]
  },
  {
   "cell_type": "code",
   "execution_count": 174,
   "metadata": {},
   "outputs": [],
   "source": [
    "def tree_predict(X, tree, proba=False):\n",
    "    \n",
    "    predicted = np.ones(X.shape[0])\n",
    "\n",
    "    # Check if final node\n",
    "    if tree['split'] == -1:\n",
    "        if not proba:\n",
    "            predicted = predicted * tree['y_pred']\n",
    "        else:\n",
    "            predicted = predicted * tree['y_prob']\n",
    "            \n",
    "    else:\n",
    "        \n",
    "        j, split = tree['split']\n",
    "        filter_l = (X.iloc[:, j] < split)\n",
    "        X_l = X.loc[filter_l]\n",
    "        X_r = X.loc[~filter_l]\n",
    "\n",
    "        if X_l.shape[0] == 0:  # If left node is empty only continue with right\n",
    "            predicted[~filter_l] = tree_predict(X_r, tree['sr'], proba)\n",
    "        elif X_r.shape[0] == 0:  # If right node is empty only continue with left\n",
    "            predicted[filter_l] = tree_predict(X_l, tree['sl'], proba)\n",
    "        else:\n",
    "            predicted[filter_l] = tree_predict(X_l, tree['sl'], proba)\n",
    "            predicted[~filter_l] = tree_predict(X_r, tree['sr'], proba)\n",
    "\n",
    "    return predicted  "
   ]
  },
  {
   "cell_type": "code",
   "execution_count": 175,
   "metadata": {},
   "outputs": [],
   "source": [
    "tree_manual=tree_grow(x_train, y_train, level=0, min_gain=0.001, max_depth=None, num_pct=10)"
   ]
  },
  {
   "cell_type": "code",
   "execution_count": 176,
   "metadata": {},
   "outputs": [
    {
     "data": {
      "text/plain": [
       "{'y_pred': 1,\n",
       " 'y_prob': 189.76634827332845,\n",
       " 'level': 0,\n",
       " 'split': [0, 8.0],\n",
       " 'n_samples': 8164,\n",
       " 'gain': 18290.70717449716,\n",
       " 'sl': {'y_pred': 1,\n",
       "  'y_prob': 54.5174439955931,\n",
       "  'level': 1,\n",
       "  'split': [0, 7.0],\n",
       "  'n_samples': 2721,\n",
       "  'gain': 6770.815558239312,\n",
       "  'sl': {'y_pred': 1,\n",
       "   'y_prob': 32.69124423963134,\n",
       "   'level': 2,\n",
       "   'split': [0, 6.0],\n",
       "   'n_samples': 2385,\n",
       "   'gain': 644.5082672208487,\n",
       "   'sl': {'y_pred': 1,\n",
       "    'y_prob': 25.349144254278727,\n",
       "    'level': 3,\n",
       "    'split': [0, 2.0],\n",
       "    'n_samples': 2043,\n",
       "    'gain': 391.50907855075684,\n",
       "    'sl': {'y_pred': 1,\n",
       "     'y_prob': 45.02928257686676,\n",
       "     'level': 4,\n",
       "     'split': [1, 1.0],\n",
       "     'n_samples': 681,\n",
       "     'gain': 1450.3228850939745,\n",
       "     'sl': {'y_pred': 1,\n",
       "      'y_prob': 84.55399061032864,\n",
       "      'level': 5,\n",
       "      'split': [0, 1.0],\n",
       "      'n_samples': 211,\n",
       "      'gain': 369.9613082843207,\n",
       "      'sl': {'y_pred': 1,\n",
       "       'y_prob': 97.73529411764706,\n",
       "       'level': 6,\n",
       "       'split': -1,\n",
       "       'n_samples': 100,\n",
       "       'gain': 0},\n",
       "      'sr': {'y_pred': 1,\n",
       "       'y_prob': 71.16814159292035,\n",
       "       'level': 6,\n",
       "       'split': -1,\n",
       "       'n_samples': 111,\n",
       "       'gain': 0}},\n",
       "     'sr': {'y_pred': 1,\n",
       "      'y_prob': 27.00423728813559,\n",
       "      'level': 5,\n",
       "      'split': [0, 1.0],\n",
       "      'n_samples': 470,\n",
       "      'gain': 223.459443047366,\n",
       "      'sl': {'y_pred': 1,\n",
       "       'y_prob': 37.03265306122449,\n",
       "       'level': 6,\n",
       "       'split': -1,\n",
       "       'n_samples': 243,\n",
       "       'gain': 0},\n",
       "      'sr': {'y_pred': 1,\n",
       "       'y_prob': 16.04366812227074,\n",
       "       'level': 6,\n",
       "       'split': -1,\n",
       "       'n_samples': 227,\n",
       "       'gain': 0}}},\n",
       "    'sr': {'y_pred': 1,\n",
       "     'y_prob': 15.458211143695015,\n",
       "     'level': 4,\n",
       "     'split': [1, 1.0],\n",
       "     'n_samples': 1362,\n",
       "     'gain': 79.17081982044033,\n",
       "     'sl': {'y_pred': 1,\n",
       "      'y_prob': 24.419282511210763,\n",
       "      'level': 5,\n",
       "      'split': [0, 3.0],\n",
       "      'n_samples': 444,\n",
       "      'gain': 612.674953874367,\n",
       "      'sl': {'y_pred': 1,\n",
       "       'y_prob': 52.733333333333334,\n",
       "       'level': 6,\n",
       "       'split': -1,\n",
       "       'n_samples': 118,\n",
       "       'gain': 0},\n",
       "      'sr': {'y_pred': 1,\n",
       "       'y_prob': 13.914634146341463,\n",
       "       'level': 6,\n",
       "       'split': [0, 4.0],\n",
       "       'n_samples': 326,\n",
       "       'gain': 114.4384137605299,\n",
       "       'sl': {'y_pred': 1,\n",
       "        'y_prob': 24.805825242718445,\n",
       "        'level': 7,\n",
       "        'split': -1,\n",
       "        'n_samples': 101,\n",
       "        'gain': 0},\n",
       "       'sr': {'y_pred': 1,\n",
       "        'y_prob': 8.854625550660794,\n",
       "        'level': 7,\n",
       "        'split': [0, 5.0],\n",
       "        'n_samples': 225,\n",
       "        'gain': 0.2323930864197905,\n",
       "        'sl': {'y_pred': 1,\n",
       "         'y_prob': 8.496062992125983,\n",
       "         'level': 8,\n",
       "         'split': -1,\n",
       "         'n_samples': 125,\n",
       "         'gain': 0},\n",
       "        'sr': {'y_pred': 1,\n",
       "         'y_prob': 9.137254901960784,\n",
       "         'level': 8,\n",
       "         'split': -1,\n",
       "         'n_samples': 100,\n",
       "         'gain': 0}}}},\n",
       "     'sr': {'y_pred': 1,\n",
       "      'y_prob': 11.081521739130435,\n",
       "      'level': 5,\n",
       "      'split': [0, 5.0],\n",
       "      'n_samples': 918,\n",
       "      'gain': 133.53547133290851,\n",
       "      'sl': {'y_pred': 1,\n",
       "       'y_prob': 6.143916913946588,\n",
       "       'level': 6,\n",
       "       'split': [0, 3.0],\n",
       "       'n_samples': 672,\n",
       "       'gain': 3.589130871215005,\n",
       "       'sl': {'y_pred': 1,\n",
       "        'y_prob': 7.9823788546255505,\n",
       "        'level': 7,\n",
       "        'split': -1,\n",
       "        'n_samples': 225,\n",
       "        'gain': 0},\n",
       "       'sr': {'y_pred': 1,\n",
       "        'y_prob': 5.189309576837417,\n",
       "        'level': 7,\n",
       "        'split': [0, 4.0],\n",
       "        'n_samples': 447,\n",
       "        'gain': 0.06229592117615823,\n",
       "        'sl': {'y_pred': 1,\n",
       "         'y_prob': 4.986238532110092,\n",
       "         'level': 8,\n",
       "         'split': -1,\n",
       "         'n_samples': 216,\n",
       "         'gain': 0},\n",
       "        'sr': {'y_pred': 1,\n",
       "         'y_prob': 5.339055793991417,\n",
       "         'level': 8,\n",
       "         'split': -1,\n",
       "         'n_samples': 231,\n",
       "         'gain': 0}}},\n",
       "      'sr': {'y_pred': 1,\n",
       "       'y_prob': 24.41532258064516,\n",
       "       'level': 6,\n",
       "       'split': -1,\n",
       "       'n_samples': 246,\n",
       "       'gain': 0}}}},\n",
       "   'sr': {'y_pred': 1,\n",
       "    'y_prob': 76.15116279069767,\n",
       "    'level': 3,\n",
       "    'split': [1, 1.0],\n",
       "    'n_samples': 342,\n",
       "    'gain': 2765.046213298905,\n",
       "    'sl': {'y_pred': 1,\n",
       "     'y_prob': 20.73148148148148,\n",
       "     'level': 4,\n",
       "     'split': -1,\n",
       "     'n_samples': 106,\n",
       "     'gain': 0},\n",
       "    'sr': {'y_pred': 1,\n",
       "     'y_prob': 100.66386554621849,\n",
       "     'level': 4,\n",
       "     'split': -1,\n",
       "     'n_samples': 236,\n",
       "     'gain': 0}}},\n",
       "  'sr': {'y_pred': 1,\n",
       "   'y_prob': 208.33727810650888,\n",
       "   'level': 2,\n",
       "   'split': [1, 1.0],\n",
       "   'n_samples': 336,\n",
       "   'gain': 23995.7949530005,\n",
       "   'sl': {'y_pred': 1,\n",
       "    'y_prob': 47.342592592592595,\n",
       "    'level': 3,\n",
       "    'split': -1,\n",
       "    'n_samples': 106,\n",
       "    'gain': 0},\n",
       "   'sr': {'y_pred': 1,\n",
       "    'y_prob': 281.4913793103448,\n",
       "    'level': 3,\n",
       "    'split': -1,\n",
       "    'n_samples': 230,\n",
       "    'gain': 0}}},\n",
       " 'sr': {'y_pred': 1,\n",
       "  'y_prob': 257.33370064279154,\n",
       "  'level': 1,\n",
       "  'split': [0, 21.0],\n",
       "  'n_samples': 5443,\n",
       "  'gain': 7247.705142924562,\n",
       "  'sl': {'y_pred': 1,\n",
       "   'y_prob': 286.0507442489851,\n",
       "   'level': 2,\n",
       "   'split': [0, 16.0],\n",
       "   'n_samples': 4432,\n",
       "   'gain': 4989.187440000824,\n",
       "   'sl': {'y_pred': 1,\n",
       "    'y_prob': 246.373989713446,\n",
       "    'level': 3,\n",
       "    'split': [0, 9.0],\n",
       "    'n_samples': 2720,\n",
       "    'gain': 3780.7528828686773,\n",
       "    'sl': {'y_pred': 1,\n",
       "     'y_prob': 359.6627565982405,\n",
       "     'level': 4,\n",
       "     'split': [1, 1.0],\n",
       "     'n_samples': 339,\n",
       "     'gain': 57154.922663955775,\n",
       "     'sl': {'y_pred': 1,\n",
       "      'y_prob': 107.38317757009345,\n",
       "      'level': 5,\n",
       "      'split': -1,\n",
       "      'n_samples': 105,\n",
       "      'gain': 0},\n",
       "     'sr': {'y_pred': 1,\n",
       "      'y_prob': 471.0,\n",
       "      'level': 5,\n",
       "      'split': -1,\n",
       "      'n_samples': 234,\n",
       "      'gain': 0}},\n",
       "    'sr': {'y_pred': 1,\n",
       "     'y_prob': 229.95635753252202,\n",
       "     'level': 4,\n",
       "     'split': [1, 1.0],\n",
       "     'n_samples': 2381,\n",
       "     'gain': 8183.6240014600335,\n",
       "     'sl': {'y_pred': 1,\n",
       "      'y_prob': 323.2579365079365,\n",
       "      'level': 5,\n",
       "      'split': [0, 11.0],\n",
       "      'n_samples': 754,\n",
       "      'gain': 7728.895960777649,\n",
       "      'sl': {'y_pred': 1,\n",
       "       'y_prob': 224.26027397260273,\n",
       "       'level': 6,\n",
       "       'split': [0, 10.0],\n",
       "       'n_samples': 217,\n",
       "       'gain': 2367.31973721087,\n",
       "       'sl': {'y_pred': 1,\n",
       "        'y_prob': 187.93577981651376,\n",
       "        'level': 7,\n",
       "        'split': -1,\n",
       "        'n_samples': 107,\n",
       "        'gain': 0},\n",
       "       'sr': {'y_pred': 1,\n",
       "        'y_prob': 255.61607142857142,\n",
       "        'level': 7,\n",
       "        'split': -1,\n",
       "        'n_samples': 110,\n",
       "        'gain': 0}},\n",
       "      'sr': {'y_pred': 1,\n",
       "       'y_prob': 362.2838589981447,\n",
       "       'level': 6,\n",
       "       'split': [0, 12.0],\n",
       "       'n_samples': 537,\n",
       "       'gain': 844.5238982074079,\n",
       "       'sl': {'y_pred': 1,\n",
       "        'y_prob': 315.64150943396226,\n",
       "        'level': 7,\n",
       "        'split': -1,\n",
       "        'n_samples': 104,\n",
       "        'gain': 0},\n",
       "       'sr': {'y_pred': 1,\n",
       "        'y_prob': 371.9862068965517,\n",
       "        'level': 7,\n",
       "        'split': [0, 14.0],\n",
       "        'n_samples': 433,\n",
       "        'gain': 227.8474492659443,\n",
       "        'sl': {'y_pred': 1,\n",
       "         'y_prob': 380.58590308370043,\n",
       "         'level': 8,\n",
       "         'split': [0, 13.0],\n",
       "         'n_samples': 225,\n",
       "         'gain': 63.52378990803845,\n",
       "         'sl': {'y_pred': 1,\n",
       "          'y_prob': 371.67543859649123,\n",
       "          'level': 9,\n",
       "          'split': -1,\n",
       "          'n_samples': 112,\n",
       "          'gain': 0},\n",
       "         'sr': {'y_pred': 1,\n",
       "          'y_prob': 382.8086956521739,\n",
       "          'level': 9,\n",
       "          'split': -1,\n",
       "          'n_samples': 113,\n",
       "          'gain': 0}},\n",
       "        'sr': {'y_pred': 1,\n",
       "         'y_prob': 359.15238095238095,\n",
       "         'level': 8,\n",
       "         'split': [0, 15.0],\n",
       "         'n_samples': 208,\n",
       "         'gain': 5.6433272428112105,\n",
       "         'sl': {'y_pred': 1,\n",
       "          'y_prob': 353.7029702970297,\n",
       "          'level': 9,\n",
       "          'split': -1,\n",
       "          'n_samples': 99,\n",
       "          'gain': 0},\n",
       "         'sr': {'y_pred': 1,\n",
       "          'y_prob': 357.64864864864865,\n",
       "          'level': 9,\n",
       "          'split': -1,\n",
       "          'n_samples': 109,\n",
       "          'gain': 0}}}}},\n",
       "     'sr': {'y_pred': 1,\n",
       "      'y_prob': 186.3744628606507,\n",
       "      'level': 5,\n",
       "      'split': [0, 10.0],\n",
       "      'n_samples': 1627,\n",
       "      'gain': 1138.1544648663985,\n",
       "      'sl': {'y_pred': 1,\n",
       "       'y_prob': 243.98678414096915,\n",
       "       'level': 6,\n",
       "       'split': -1,\n",
       "       'n_samples': 225,\n",
       "       'gain': 0},\n",
       "      'sr': {'y_pred': 1,\n",
       "       'y_prob': 176.7948717948718,\n",
       "       'level': 6,\n",
       "       'split': [0, 12.0],\n",
       "       'n_samples': 1402,\n",
       "       'gain': 1052.075322747456,\n",
       "       'sl': {'y_pred': 1,\n",
       "        'y_prob': 145.065306122449,\n",
       "        'level': 7,\n",
       "        'split': [0, 11.0],\n",
       "        'n_samples': 488,\n",
       "        'gain': 266.1523535234155,\n",
       "        'sl': {'y_pred': 1,\n",
       "         'y_prob': 132.61764705882354,\n",
       "         'level': 8,\n",
       "         'split': -1,\n",
       "         'n_samples': 236,\n",
       "         'gain': 0},\n",
       "        'sr': {'y_pred': 1,\n",
       "         'y_prob': 155.59055118110237,\n",
       "         'level': 8,\n",
       "         'split': -1,\n",
       "         'n_samples': 252,\n",
       "         'gain': 0}},\n",
       "       'sr': {'y_pred': 1,\n",
       "        'y_prob': 193.38318777292577,\n",
       "        'level': 7,\n",
       "        'split': [0, 15.0],\n",
       "        'n_samples': 914,\n",
       "        'gain': 21.483377212978667,\n",
       "        'sl': {'y_pred': 1,\n",
       "         'y_prob': 191.27703703703705,\n",
       "         'level': 8,\n",
       "         'split': [0, 14.0],\n",
       "         'n_samples': 673,\n",
       "         'gain': 105.71589520004636,\n",
       "         'sl': {'y_pred': 1,\n",
       "          'y_prob': 196.18385650224215,\n",
       "          'level': 9,\n",
       "          'split': [0, 13.0],\n",
       "          'n_samples': 444,\n",
       "          'gain': 3.630564100370975,\n",
       "          'sl': {'y_pred': 1,\n",
       "           'y_prob': 196.63133640552996,\n",
       "           'level': 10,\n",
       "           'split': -1,\n",
       "           'n_samples': 215,\n",
       "           'gain': 0},\n",
       "          'sr': {'y_pred': 1,\n",
       "           'y_prob': 194.06926406926408,\n",
       "           'level': 10,\n",
       "           'split': -1,\n",
       "           'n_samples': 229,\n",
       "           'gain': 0}},\n",
       "         'sr': {'y_pred': 1,\n",
       "          'y_prob': 180.15151515151516,\n",
       "          'level': 9,\n",
       "          'split': -1,\n",
       "          'n_samples': 229,\n",
       "          'gain': 0}},\n",
       "        'sr': {'y_pred': 1,\n",
       "         'y_prob': 197.64609053497944,\n",
       "         'level': 8,\n",
       "         'split': -1,\n",
       "         'n_samples': 241,\n",
       "         'gain': 0}}}}}},\n",
       "   'sr': {'y_pred': 1,\n",
       "    'y_prob': 348.72812135355895,\n",
       "    'level': 3,\n",
       "    'split': [0, 19.0],\n",
       "    'n_samples': 1712,\n",
       "    'gain': 8153.613928118779,\n",
       "    'sl': {'y_pred': 1,\n",
       "     'y_prob': 401.57213438735175,\n",
       "     'level': 4,\n",
       "     'split': [0, 17.0],\n",
       "     'n_samples': 1010,\n",
       "     'gain': 8056.072593155026,\n",
       "     'sl': {'y_pred': 1,\n",
       "      'y_prob': 310.2202380952381,\n",
       "      'level': 5,\n",
       "      'split': [1, 1.0],\n",
       "      'n_samples': 334,\n",
       "      'gain': 3031.9460097374395,\n",
       "      'sl': {'y_pred': 1,\n",
       "       'y_prob': 361.7090909090909,\n",
       "       'level': 6,\n",
       "       'split': -1,\n",
       "       'n_samples': 108,\n",
       "       'gain': 0},\n",
       "      'sr': {'y_pred': 1,\n",
       "       'y_prob': 282.6622807017544,\n",
       "       'level': 6,\n",
       "       'split': -1,\n",
       "       'n_samples': 226,\n",
       "       'gain': 0}},\n",
       "     'sr': {'y_pred': 1,\n",
       "      'y_prob': 445.6607669616519,\n",
       "      'level': 5,\n",
       "      'split': [1, 1.0],\n",
       "      'n_samples': 676,\n",
       "      'gain': 16800.26424892666,\n",
       "      'sl': {'y_pred': 1,\n",
       "       'y_prob': 305.5769230769231,\n",
       "       'level': 6,\n",
       "       'split': [0, 18.0],\n",
       "       'n_samples': 206,\n",
       "       'gain': 246.0826800542127,\n",
       "       'sl': {'y_pred': 1,\n",
       "        'y_prob': 313.74257425742576,\n",
       "        'level': 7,\n",
       "        'split': -1,\n",
       "        'n_samples': 99,\n",
       "        'gain': 0},\n",
       "       'sr': {'y_pred': 1,\n",
       "        'y_prob': 292.41284403669727,\n",
       "        'level': 7,\n",
       "        'split': -1,\n",
       "        'n_samples': 107,\n",
       "        'gain': 0}},\n",
       "      'sr': {'y_pred': 1,\n",
       "       'y_prob': 505.5063559322034,\n",
       "       'level': 6,\n",
       "       'split': [0, 18.0],\n",
       "       'n_samples': 470,\n",
       "       'gain': 434.01217786432244,\n",
       "       'sl': {'y_pred': 1,\n",
       "        'y_prob': 517.8953974895397,\n",
       "        'level': 7,\n",
       "        'split': -1,\n",
       "        'n_samples': 237,\n",
       "        'gain': 0},\n",
       "       'sr': {'y_pred': 1,\n",
       "        'y_prob': 488.6085106382979,\n",
       "        'level': 7,\n",
       "        'split': -1,\n",
       "        'n_samples': 233,\n",
       "        'gain': 0}}}},\n",
       "    'sr': {'y_pred': 1,\n",
       "     'y_prob': 271.7755681818182,\n",
       "     'level': 4,\n",
       "     'split': [0, 20.0],\n",
       "     'n_samples': 702,\n",
       "     'gain': 3769.896832141181,\n",
       "     'sl': {'y_pred': 1,\n",
       "      'y_prob': 314.0593220338983,\n",
       "      'level': 5,\n",
       "      'split': [1, 1.0],\n",
       "      'n_samples': 352,\n",
       "      'gain': 4636.4881334656675,\n",
       "      'sl': {'y_pred': 1,\n",
       "       'y_prob': 242.0344827586207,\n",
       "       'level': 6,\n",
       "       'split': -1,\n",
       "       'n_samples': 114,\n",
       "       'gain': 0},\n",
       "      'sr': {'y_pred': 1,\n",
       "       'y_prob': 346.2583333333333,\n",
       "       'level': 6,\n",
       "       'split': -1,\n",
       "       'n_samples': 238,\n",
       "       'gain': 0}},\n",
       "     'sr': {'y_pred': 1,\n",
       "      'y_prob': 227.71022727272728,\n",
       "      'level': 5,\n",
       "      'split': [1, 1.0],\n",
       "      'n_samples': 350,\n",
       "      'gain': 2372.788666203065,\n",
       "      'sl': {'y_pred': 1,\n",
       "       'y_prob': 177.70833333333334,\n",
       "       'level': 6,\n",
       "       'split': -1,\n",
       "       'n_samples': 118,\n",
       "       'gain': 0},\n",
       "      'sr': {'y_pred': 1,\n",
       "       'y_prob': 251.4102564102564,\n",
       "       'level': 6,\n",
       "       'split': -1,\n",
       "       'n_samples': 232,\n",
       "       'gain': 0}}}}},\n",
       "  'sr': {'y_pred': 1,\n",
       "   'y_prob': 131.12931885488646,\n",
       "   'level': 2,\n",
       "   'split': [0, 23.0],\n",
       "   'n_samples': 1011,\n",
       "   'gain': 1883.6734005195249,\n",
       "   'sl': {'y_pred': 1,\n",
       "    'y_prob': 152.68444444444444,\n",
       "    'level': 3,\n",
       "    'split': [0, 22.0],\n",
       "    'n_samples': 673,\n",
       "    'gain': 868.0879288981596,\n",
       "    'sl': {'y_pred': 1,\n",
       "     'y_prob': 173.69018404907976,\n",
       "     'level': 4,\n",
       "     'split': [1, 1.0],\n",
       "     'n_samples': 324,\n",
       "     'gain': 575.7008330215613,\n",
       "     'sl': {'y_pred': 1,\n",
       "      'y_prob': 146.23762376237624,\n",
       "      'level': 5,\n",
       "      'split': -1,\n",
       "      'n_samples': 99,\n",
       "      'gain': 0},\n",
       "     'sr': {'y_pred': 1,\n",
       "      'y_prob': 184.37885462555067,\n",
       "      'level': 5,\n",
       "      'split': -1,\n",
       "      'n_samples': 225,\n",
       "      'gain': 0}},\n",
       "    'sr': {'y_pred': 1,\n",
       "     'y_prob': 132.30769230769232,\n",
       "     'level': 4,\n",
       "     'split': [1, 1.0],\n",
       "     'n_samples': 349,\n",
       "     'gain': 108.55748135903559,\n",
       "     'sl': {'y_pred': 1,\n",
       "      'y_prob': 120.29565217391304,\n",
       "      'level': 5,\n",
       "      'split': -1,\n",
       "      'n_samples': 113,\n",
       "      'gain': 0},\n",
       "     'sr': {'y_pred': 1,\n",
       "      'y_prob': 137.00420168067228,\n",
       "      'level': 5,\n",
       "      'split': -1,\n",
       "      'n_samples': 236,\n",
       "      'gain': 0}}},\n",
       "   'sr': {'y_pred': 1,\n",
       "    'y_prob': 87.56764705882352,\n",
       "    'level': 3,\n",
       "    'split': [1, 1.0],\n",
       "    'n_samples': 338,\n",
       "    'gain': 2.966955039068125,\n",
       "    'sl': {'y_pred': 1,\n",
       "     'y_prob': 88.24107142857143,\n",
       "     'level': 4,\n",
       "     'split': -1,\n",
       "     'n_samples': 110,\n",
       "     'gain': 0},\n",
       "    'sr': {'y_pred': 1,\n",
       "     'y_prob': 86.48260869565217,\n",
       "     'level': 4,\n",
       "     'split': -1,\n",
       "     'n_samples': 228,\n",
       "     'gain': 0}}}}}"
      ]
     },
     "execution_count": 176,
     "metadata": {},
     "output_type": "execute_result"
    }
   ],
   "source": [
    "tree_manual"
   ]
  },
  {
   "cell_type": "markdown",
   "metadata": {},
   "source": [
    " El árbol construido para el \"total\", iterando de forma manual a partir de las variables \"hour\" y \"workinday\" tiene un total de  9 niveles "
   ]
  },
  {
   "cell_type": "code",
   "execution_count": 177,
   "metadata": {},
   "outputs": [],
   "source": [
    "y_predict=tree_predict(x_test, tree_manual)"
   ]
  },
  {
   "cell_type": "code",
   "execution_count": 178,
   "metadata": {},
   "outputs": [
    {
     "name": "stdout",
     "output_type": "stream",
     "text": [
      "accuracy_score= 0.009184423218221896\n"
     ]
    }
   ],
   "source": [
    "from sklearn import metrics \n",
    "print(\"accuracy_score=\",str(metrics.accuracy_score(y_test,y_predict)))"
   ]
  },
  {
   "cell_type": "markdown",
   "metadata": {},
   "source": [
    "observamos que el ajuste del DecisicionTree con solo las variables hours y workingday no es bueno, ya que su accuracy es del 1% aprox. lo cual nos dice que la capacidad de predicción del modelo es mala"
   ]
  },
  {
   "cell_type": "markdown",
   "metadata": {},
   "source": [
    "# Exercise 7.5\n",
    "\n",
    "Train a Decision Tree using scikit-learn. Comment about the performance of the models."
   ]
  },
  {
   "cell_type": "code",
   "execution_count": 179,
   "metadata": {},
   "outputs": [
    {
     "name": "stdout",
     "output_type": "stream",
     "text": [
      "accuracy_score_met2= 0.02020573108008817\n"
     ]
    }
   ],
   "source": [
    "#importamos las librerias necesarias\n",
    "from sklearn.tree import DecisionTreeClassifier\n",
    "tree_bike= DecisionTreeClassifier(max_depth=None, random_state=1)\n",
    "tree_bike.fit(x_train, y_train)\n",
    "y_predict_2=tree_bike.predict(x_test)\n",
    "print(\"accuracy_score_met2=\",str(metrics.accuracy_score(y_test,y_predict_2)))"
   ]
  },
  {
   "cell_type": "markdown",
   "metadata": {},
   "source": [
    "Al ajustar un árbol para el la variable \"total\" a partir de solamente \"hours\" y \"workingday\" vemos que la capacidad de predicción del árbol es mala, esto puede ser porque se están utilizando muy pocas variables para explicar el total, y adicional, la variable \"hours\" tiene múltiples categorías, lo que dificulta hacer una buena predicción solo con esta información."
   ]
  },
  {
   "cell_type": "markdown",
   "metadata": {},
   "source": [
    "# Part 2 - Bagging"
   ]
  },
  {
   "cell_type": "markdown",
   "metadata": {},
   "source": [
    "## Mashable news stories analysis\n",
    "\n",
    "Predicting if a news story is going to be popular"
   ]
  },
  {
   "cell_type": "code",
   "execution_count": 180,
   "metadata": {},
   "outputs": [
    {
     "data": {
      "text/html": [
       "<div>\n",
       "<style scoped>\n",
       "    .dataframe tbody tr th:only-of-type {\n",
       "        vertical-align: middle;\n",
       "    }\n",
       "\n",
       "    .dataframe tbody tr th {\n",
       "        vertical-align: top;\n",
       "    }\n",
       "\n",
       "    .dataframe thead th {\n",
       "        text-align: right;\n",
       "    }\n",
       "</style>\n",
       "<table border=\"1\" class=\"dataframe\">\n",
       "  <thead>\n",
       "    <tr style=\"text-align: right;\">\n",
       "      <th></th>\n",
       "      <th>url</th>\n",
       "      <th>timedelta</th>\n",
       "      <th>n_tokens_title</th>\n",
       "      <th>n_tokens_content</th>\n",
       "      <th>n_unique_tokens</th>\n",
       "      <th>n_non_stop_words</th>\n",
       "      <th>n_non_stop_unique_tokens</th>\n",
       "      <th>num_hrefs</th>\n",
       "      <th>num_self_hrefs</th>\n",
       "      <th>num_imgs</th>\n",
       "      <th>...</th>\n",
       "      <th>min_positive_polarity</th>\n",
       "      <th>max_positive_polarity</th>\n",
       "      <th>avg_negative_polarity</th>\n",
       "      <th>min_negative_polarity</th>\n",
       "      <th>max_negative_polarity</th>\n",
       "      <th>title_subjectivity</th>\n",
       "      <th>title_sentiment_polarity</th>\n",
       "      <th>abs_title_subjectivity</th>\n",
       "      <th>abs_title_sentiment_polarity</th>\n",
       "      <th>Popular</th>\n",
       "    </tr>\n",
       "  </thead>\n",
       "  <tbody>\n",
       "    <tr>\n",
       "      <th>0</th>\n",
       "      <td>http://mashable.com/2014/12/10/cia-torture-rep...</td>\n",
       "      <td>28.0</td>\n",
       "      <td>9.0</td>\n",
       "      <td>188.0</td>\n",
       "      <td>0.732620</td>\n",
       "      <td>1.0</td>\n",
       "      <td>0.844262</td>\n",
       "      <td>5.0</td>\n",
       "      <td>1.0</td>\n",
       "      <td>1.0</td>\n",
       "      <td>...</td>\n",
       "      <td>0.200000</td>\n",
       "      <td>0.80</td>\n",
       "      <td>-0.487500</td>\n",
       "      <td>-0.60</td>\n",
       "      <td>-0.250000</td>\n",
       "      <td>0.9</td>\n",
       "      <td>0.8</td>\n",
       "      <td>0.4</td>\n",
       "      <td>0.8</td>\n",
       "      <td>1</td>\n",
       "    </tr>\n",
       "    <tr>\n",
       "      <th>1</th>\n",
       "      <td>http://mashable.com/2013/10/18/bitlock-kicksta...</td>\n",
       "      <td>447.0</td>\n",
       "      <td>7.0</td>\n",
       "      <td>297.0</td>\n",
       "      <td>0.653199</td>\n",
       "      <td>1.0</td>\n",
       "      <td>0.815789</td>\n",
       "      <td>9.0</td>\n",
       "      <td>4.0</td>\n",
       "      <td>1.0</td>\n",
       "      <td>...</td>\n",
       "      <td>0.160000</td>\n",
       "      <td>0.50</td>\n",
       "      <td>-0.135340</td>\n",
       "      <td>-0.40</td>\n",
       "      <td>-0.050000</td>\n",
       "      <td>0.1</td>\n",
       "      <td>-0.1</td>\n",
       "      <td>0.4</td>\n",
       "      <td>0.1</td>\n",
       "      <td>0</td>\n",
       "    </tr>\n",
       "    <tr>\n",
       "      <th>2</th>\n",
       "      <td>http://mashable.com/2013/07/24/google-glass-po...</td>\n",
       "      <td>533.0</td>\n",
       "      <td>11.0</td>\n",
       "      <td>181.0</td>\n",
       "      <td>0.660377</td>\n",
       "      <td>1.0</td>\n",
       "      <td>0.775701</td>\n",
       "      <td>4.0</td>\n",
       "      <td>3.0</td>\n",
       "      <td>1.0</td>\n",
       "      <td>...</td>\n",
       "      <td>0.136364</td>\n",
       "      <td>1.00</td>\n",
       "      <td>0.000000</td>\n",
       "      <td>0.00</td>\n",
       "      <td>0.000000</td>\n",
       "      <td>0.3</td>\n",
       "      <td>1.0</td>\n",
       "      <td>0.2</td>\n",
       "      <td>1.0</td>\n",
       "      <td>0</td>\n",
       "    </tr>\n",
       "    <tr>\n",
       "      <th>3</th>\n",
       "      <td>http://mashable.com/2013/11/21/these-are-the-m...</td>\n",
       "      <td>413.0</td>\n",
       "      <td>12.0</td>\n",
       "      <td>781.0</td>\n",
       "      <td>0.497409</td>\n",
       "      <td>1.0</td>\n",
       "      <td>0.677350</td>\n",
       "      <td>10.0</td>\n",
       "      <td>3.0</td>\n",
       "      <td>1.0</td>\n",
       "      <td>...</td>\n",
       "      <td>0.100000</td>\n",
       "      <td>1.00</td>\n",
       "      <td>-0.195701</td>\n",
       "      <td>-0.40</td>\n",
       "      <td>-0.071429</td>\n",
       "      <td>0.0</td>\n",
       "      <td>0.0</td>\n",
       "      <td>0.5</td>\n",
       "      <td>0.0</td>\n",
       "      <td>0</td>\n",
       "    </tr>\n",
       "    <tr>\n",
       "      <th>4</th>\n",
       "      <td>http://mashable.com/2014/02/11/parking-ticket-...</td>\n",
       "      <td>331.0</td>\n",
       "      <td>8.0</td>\n",
       "      <td>177.0</td>\n",
       "      <td>0.685714</td>\n",
       "      <td>1.0</td>\n",
       "      <td>0.830357</td>\n",
       "      <td>3.0</td>\n",
       "      <td>2.0</td>\n",
       "      <td>1.0</td>\n",
       "      <td>...</td>\n",
       "      <td>0.100000</td>\n",
       "      <td>0.55</td>\n",
       "      <td>-0.175000</td>\n",
       "      <td>-0.25</td>\n",
       "      <td>-0.100000</td>\n",
       "      <td>0.0</td>\n",
       "      <td>0.0</td>\n",
       "      <td>0.5</td>\n",
       "      <td>0.0</td>\n",
       "      <td>0</td>\n",
       "    </tr>\n",
       "  </tbody>\n",
       "</table>\n",
       "<p>5 rows × 61 columns</p>\n",
       "</div>"
      ],
      "text/plain": [
       "                                                 url  timedelta  \\\n",
       "0  http://mashable.com/2014/12/10/cia-torture-rep...       28.0   \n",
       "1  http://mashable.com/2013/10/18/bitlock-kicksta...      447.0   \n",
       "2  http://mashable.com/2013/07/24/google-glass-po...      533.0   \n",
       "3  http://mashable.com/2013/11/21/these-are-the-m...      413.0   \n",
       "4  http://mashable.com/2014/02/11/parking-ticket-...      331.0   \n",
       "\n",
       "   n_tokens_title  n_tokens_content  n_unique_tokens  n_non_stop_words  \\\n",
       "0             9.0             188.0         0.732620               1.0   \n",
       "1             7.0             297.0         0.653199               1.0   \n",
       "2            11.0             181.0         0.660377               1.0   \n",
       "3            12.0             781.0         0.497409               1.0   \n",
       "4             8.0             177.0         0.685714               1.0   \n",
       "\n",
       "   n_non_stop_unique_tokens  num_hrefs  num_self_hrefs  num_imgs  ...  \\\n",
       "0                  0.844262        5.0             1.0       1.0  ...   \n",
       "1                  0.815789        9.0             4.0       1.0  ...   \n",
       "2                  0.775701        4.0             3.0       1.0  ...   \n",
       "3                  0.677350       10.0             3.0       1.0  ...   \n",
       "4                  0.830357        3.0             2.0       1.0  ...   \n",
       "\n",
       "   min_positive_polarity  max_positive_polarity  avg_negative_polarity  \\\n",
       "0               0.200000                   0.80              -0.487500   \n",
       "1               0.160000                   0.50              -0.135340   \n",
       "2               0.136364                   1.00               0.000000   \n",
       "3               0.100000                   1.00              -0.195701   \n",
       "4               0.100000                   0.55              -0.175000   \n",
       "\n",
       "   min_negative_polarity  max_negative_polarity  title_subjectivity  \\\n",
       "0                  -0.60              -0.250000                 0.9   \n",
       "1                  -0.40              -0.050000                 0.1   \n",
       "2                   0.00               0.000000                 0.3   \n",
       "3                  -0.40              -0.071429                 0.0   \n",
       "4                  -0.25              -0.100000                 0.0   \n",
       "\n",
       "   title_sentiment_polarity  abs_title_subjectivity  \\\n",
       "0                       0.8                     0.4   \n",
       "1                      -0.1                     0.4   \n",
       "2                       1.0                     0.2   \n",
       "3                       0.0                     0.5   \n",
       "4                       0.0                     0.5   \n",
       "\n",
       "   abs_title_sentiment_polarity  Popular  \n",
       "0                           0.8        1  \n",
       "1                           0.1        0  \n",
       "2                           1.0        0  \n",
       "3                           0.0        0  \n",
       "4                           0.0        0  \n",
       "\n",
       "[5 rows x 61 columns]"
      ]
     },
     "execution_count": 180,
     "metadata": {},
     "output_type": "execute_result"
    }
   ],
   "source": [
    "df = pd.read_csv('../datasets/mashable.csv', index_col=0)\n",
    "df.head()"
   ]
  },
  {
   "cell_type": "code",
   "execution_count": 181,
   "metadata": {},
   "outputs": [
    {
     "data": {
      "text/plain": [
       "(6000, 61)"
      ]
     },
     "execution_count": 181,
     "metadata": {},
     "output_type": "execute_result"
    }
   ],
   "source": [
    "df.shape"
   ]
  },
  {
   "cell_type": "code",
   "execution_count": 189,
   "metadata": {},
   "outputs": [],
   "source": [
    "xs = df.drop(['url', 'Popular'], axis=1)\n",
    "ys = df['Popular']"
   ]
  },
  {
   "cell_type": "code",
   "execution_count": 190,
   "metadata": {},
   "outputs": [
    {
     "data": {
      "text/plain": [
       "0.5"
      ]
     },
     "execution_count": 190,
     "metadata": {},
     "output_type": "execute_result"
    }
   ],
   "source": [
    "ys.mean()"
   ]
  },
  {
   "cell_type": "code",
   "execution_count": 191,
   "metadata": {},
   "outputs": [],
   "source": [
    "# train/test split\n",
    "from sklearn.model_selection import train_test_split\n",
    "xs_train, xs_test, ys_train, ys_test = train_test_split(xs, ys, random_state=1)"
   ]
  },
  {
   "cell_type": "markdown",
   "metadata": {},
   "source": [
    "# Exercise 7.6\n",
    "\n",
    "Estimate a Decision Tree Classifier and a Logistic Regression\n",
    "\n",
    "Evaluate using the following metrics:\n",
    "* Accuracy\n",
    "* F1-Score"
   ]
  },
  {
   "cell_type": "code",
   "execution_count": 192,
   "metadata": {},
   "outputs": [
    {
     "name": "stdout",
     "output_type": "stream",
     "text": [
      "accuracy_score_DecisionTree= 0.5426666666666666\n",
      "F1_score_DecisionTree= 0.5402144772117962\n"
     ]
    }
   ],
   "source": [
    "#ajustamos un Decision tree\n",
    "tree_st= DecisionTreeClassifier(max_depth=None, random_state=1)\n",
    "tree_st.fit(xs_train, ys_train)\n",
    "ys_predict=tree_st.predict(xs_test)\n",
    "print(\"accuracy_score_DecisionTree=\",str(metrics.accuracy_score(ys_test,ys_predict)))\n",
    "print(\"F1_score_DecisionTree=\",str(metrics.f1_score(ys_test,ys_predict)))"
   ]
  },
  {
   "cell_type": "code",
   "execution_count": 337,
   "metadata": {},
   "outputs": [
    {
     "name": "stdout",
     "output_type": "stream",
     "text": [
      "accuracy_score_logistic_Reg= 0.6273333333333333\n",
      "F1_score_logistic_Reg= 0.6104529616724739\n"
     ]
    }
   ],
   "source": [
    "#ajustamos un Decision tree\n",
    "import warnings\n",
    "warnings.filterwarnings(\"ignore\")\n",
    "from sklearn.linear_model import LogisticRegression\n",
    "log_reg_st=LogisticRegression()\n",
    "log_reg_st.fit(xs_train, ys_train)\n",
    "y_predict_lg=log_reg_st.predict(xs_test)\n",
    "print(\"accuracy_score_logistic_Reg=\",str(metrics.accuracy_score(ys_test,y_predict_lg)))\n",
    "print(\"F1_score_logistic_Reg=\",str(metrics.f1_score(ys_test,y_predict_lg)))"
   ]
  },
  {
   "cell_type": "markdown",
   "metadata": {},
   "source": [
    "Evaluando y comparando los modelos basedo en las métricas del f1_scrore y el accuracy, es claro que el ajuste por Regresión logística tiene un mejor performance y una mejor capacidad de predicción que el Decision Tree para el análisis de las historias. "
   ]
  },
  {
   "cell_type": "markdown",
   "metadata": {},
   "source": [
    "# Exercise 7.7\n",
    "\n",
    "Estimate 300 bagged samples\n",
    "\n",
    "Estimate the following set of classifiers:\n",
    "\n",
    "* 100 Decision Trees where max_depth=None\n",
    "* 100 Decision Trees where max_depth=2\n",
    "* 100 Logistic Regressions"
   ]
  },
  {
   "cell_type": "code",
   "execution_count": 329,
   "metadata": {},
   "outputs": [
    {
     "data": {
      "text/plain": [
       "300"
      ]
     },
     "execution_count": 329,
     "metadata": {},
     "output_type": "execute_result"
    }
   ],
   "source": [
    "import math\n",
    "\n",
    "models = {'Dt': DecisionTreeClassifier(max_depth=None, random_state=1),\n",
    "          'Dt_2': DecisionTreeClassifier(max_depth=2, random_state=1),\n",
    "          'lr': LogisticRegression()}\n",
    "\n",
    "#definimos 300 muestras aleatorias de la base train para estimar los tres modelos \n",
    "n_samples = xs_train.shape[0]\n",
    "n_B = 300\n",
    "samples = [np.random.choice(a=n_samples, size=n_samples, replace=True) for _ in range(1, n_B +1 )]\n",
    "len(samples)"
   ]
  },
  {
   "cell_type": "code",
   "execution_count": 299,
   "metadata": {
    "scrolled": false
   },
   "outputs": [
    {
     "data": {
      "text/html": [
       "<div>\n",
       "<style scoped>\n",
       "    .dataframe tbody tr th:only-of-type {\n",
       "        vertical-align: middle;\n",
       "    }\n",
       "\n",
       "    .dataframe tbody tr th {\n",
       "        vertical-align: top;\n",
       "    }\n",
       "\n",
       "    .dataframe thead th {\n",
       "        text-align: right;\n",
       "    }\n",
       "</style>\n",
       "<table border=\"1\" class=\"dataframe\">\n",
       "  <thead>\n",
       "    <tr style=\"text-align: right;\">\n",
       "      <th></th>\n",
       "      <th>Popular</th>\n",
       "    </tr>\n",
       "  </thead>\n",
       "  <tbody>\n",
       "    <tr>\n",
       "      <th>2420</th>\n",
       "      <td>1</td>\n",
       "    </tr>\n",
       "    <tr>\n",
       "      <th>1225</th>\n",
       "      <td>1</td>\n",
       "    </tr>\n",
       "    <tr>\n",
       "      <th>324</th>\n",
       "      <td>0</td>\n",
       "    </tr>\n",
       "    <tr>\n",
       "      <th>5863</th>\n",
       "      <td>1</td>\n",
       "    </tr>\n",
       "    <tr>\n",
       "      <th>86</th>\n",
       "      <td>1</td>\n",
       "    </tr>\n",
       "  </tbody>\n",
       "</table>\n",
       "</div>"
      ],
      "text/plain": [
       "      Popular\n",
       "2420        1\n",
       "1225        1\n",
       "324         0\n",
       "5863        1\n",
       "86          1"
      ]
     },
     "execution_count": 299,
     "metadata": {},
     "output_type": "execute_result"
    }
   ],
   "source": [
    "ys_train=pd.DataFrame(ys_train)\n",
    "ys_train.head()"
   ]
  },
  {
   "cell_type": "code",
   "execution_count": 300,
   "metadata": {},
   "outputs": [],
   "source": [
    "ys_predict=pd.DataFrame(index=xs_test.index, columns=[list(range(n_B))])"
   ]
  },
  {
   "cell_type": "code",
   "execution_count": 338,
   "metadata": {},
   "outputs": [],
   "source": [
    "mk=['Dt','Dt_2','lr'] #listamos en una lista las 3 keys de mis modelos\n",
    "for i in range(300):\n",
    "    X=xs_train.iloc[samples[i], :]\n",
    "    y=ys_train.iloc[samples[i], :]\n",
    "    ml=models[mk[int(i/100)]].fit(X,y)\n",
    "    ys_predict[i]=ml.predict(xs_test)"
   ]
  },
  {
   "cell_type": "code",
   "execution_count": 336,
   "metadata": {
    "scrolled": false
   },
   "outputs": [
    {
     "data": {
      "text/html": [
       "<div>\n",
       "<style scoped>\n",
       "    .dataframe tbody tr th:only-of-type {\n",
       "        vertical-align: middle;\n",
       "    }\n",
       "\n",
       "    .dataframe tbody tr th {\n",
       "        vertical-align: top;\n",
       "    }\n",
       "\n",
       "    .dataframe thead tr th {\n",
       "        text-align: left;\n",
       "    }\n",
       "</style>\n",
       "<table border=\"1\" class=\"dataframe\">\n",
       "  <thead>\n",
       "    <tr>\n",
       "      <th></th>\n",
       "      <th>0</th>\n",
       "      <th>1</th>\n",
       "      <th>2</th>\n",
       "      <th>3</th>\n",
       "      <th>4</th>\n",
       "      <th>5</th>\n",
       "      <th>6</th>\n",
       "      <th>7</th>\n",
       "      <th>8</th>\n",
       "      <th>9</th>\n",
       "      <th>...</th>\n",
       "      <th>290</th>\n",
       "      <th>291</th>\n",
       "      <th>292</th>\n",
       "      <th>293</th>\n",
       "      <th>294</th>\n",
       "      <th>295</th>\n",
       "      <th>296</th>\n",
       "      <th>297</th>\n",
       "      <th>298</th>\n",
       "      <th>299</th>\n",
       "    </tr>\n",
       "  </thead>\n",
       "  <tbody>\n",
       "    <tr>\n",
       "      <th>1483</th>\n",
       "      <td>1</td>\n",
       "      <td>1</td>\n",
       "      <td>1</td>\n",
       "      <td>1</td>\n",
       "      <td>1</td>\n",
       "      <td>1</td>\n",
       "      <td>1</td>\n",
       "      <td>1</td>\n",
       "      <td>1</td>\n",
       "      <td>1</td>\n",
       "      <td>...</td>\n",
       "      <td>1</td>\n",
       "      <td>1</td>\n",
       "      <td>1</td>\n",
       "      <td>1</td>\n",
       "      <td>1</td>\n",
       "      <td>1</td>\n",
       "      <td>1</td>\n",
       "      <td>1</td>\n",
       "      <td>1</td>\n",
       "      <td>1</td>\n",
       "    </tr>\n",
       "    <tr>\n",
       "      <th>2185</th>\n",
       "      <td>1</td>\n",
       "      <td>1</td>\n",
       "      <td>1</td>\n",
       "      <td>1</td>\n",
       "      <td>1</td>\n",
       "      <td>1</td>\n",
       "      <td>1</td>\n",
       "      <td>1</td>\n",
       "      <td>1</td>\n",
       "      <td>1</td>\n",
       "      <td>...</td>\n",
       "      <td>1</td>\n",
       "      <td>1</td>\n",
       "      <td>1</td>\n",
       "      <td>1</td>\n",
       "      <td>1</td>\n",
       "      <td>1</td>\n",
       "      <td>1</td>\n",
       "      <td>1</td>\n",
       "      <td>1</td>\n",
       "      <td>1</td>\n",
       "    </tr>\n",
       "    <tr>\n",
       "      <th>2520</th>\n",
       "      <td>0</td>\n",
       "      <td>1</td>\n",
       "      <td>1</td>\n",
       "      <td>0</td>\n",
       "      <td>1</td>\n",
       "      <td>1</td>\n",
       "      <td>1</td>\n",
       "      <td>0</td>\n",
       "      <td>0</td>\n",
       "      <td>1</td>\n",
       "      <td>...</td>\n",
       "      <td>1</td>\n",
       "      <td>1</td>\n",
       "      <td>1</td>\n",
       "      <td>1</td>\n",
       "      <td>1</td>\n",
       "      <td>1</td>\n",
       "      <td>1</td>\n",
       "      <td>1</td>\n",
       "      <td>1</td>\n",
       "      <td>1</td>\n",
       "    </tr>\n",
       "    <tr>\n",
       "      <th>3721</th>\n",
       "      <td>1</td>\n",
       "      <td>1</td>\n",
       "      <td>0</td>\n",
       "      <td>0</td>\n",
       "      <td>1</td>\n",
       "      <td>1</td>\n",
       "      <td>1</td>\n",
       "      <td>1</td>\n",
       "      <td>1</td>\n",
       "      <td>1</td>\n",
       "      <td>...</td>\n",
       "      <td>1</td>\n",
       "      <td>1</td>\n",
       "      <td>1</td>\n",
       "      <td>1</td>\n",
       "      <td>1</td>\n",
       "      <td>1</td>\n",
       "      <td>1</td>\n",
       "      <td>1</td>\n",
       "      <td>1</td>\n",
       "      <td>1</td>\n",
       "    </tr>\n",
       "    <tr>\n",
       "      <th>3727</th>\n",
       "      <td>0</td>\n",
       "      <td>1</td>\n",
       "      <td>0</td>\n",
       "      <td>0</td>\n",
       "      <td>0</td>\n",
       "      <td>0</td>\n",
       "      <td>1</td>\n",
       "      <td>0</td>\n",
       "      <td>1</td>\n",
       "      <td>0</td>\n",
       "      <td>...</td>\n",
       "      <td>0</td>\n",
       "      <td>0</td>\n",
       "      <td>0</td>\n",
       "      <td>0</td>\n",
       "      <td>0</td>\n",
       "      <td>0</td>\n",
       "      <td>0</td>\n",
       "      <td>0</td>\n",
       "      <td>0</td>\n",
       "      <td>0</td>\n",
       "    </tr>\n",
       "  </tbody>\n",
       "</table>\n",
       "<p>5 rows × 300 columns</p>\n",
       "</div>"
      ],
      "text/plain": [
       "     0   1   2   3   4   5   6   7   8   9    ... 290 291 292 293 294 295 296  \\\n",
       "1483   1   1   1   1   1   1   1   1   1   1  ...   1   1   1   1   1   1   1   \n",
       "2185   1   1   1   1   1   1   1   1   1   1  ...   1   1   1   1   1   1   1   \n",
       "2520   0   1   1   0   1   1   1   0   0   1  ...   1   1   1   1   1   1   1   \n",
       "3721   1   1   0   0   1   1   1   1   1   1  ...   1   1   1   1   1   1   1   \n",
       "3727   0   1   0   0   0   0   1   0   1   0  ...   0   0   0   0   0   0   0   \n",
       "\n",
       "     297 298 299  \n",
       "1483   1   1   1  \n",
       "2185   1   1   1  \n",
       "2520   1   1   1  \n",
       "3721   1   1   1  \n",
       "3727   0   0   0  \n",
       "\n",
       "[5 rows x 300 columns]"
      ]
     },
     "execution_count": 336,
     "metadata": {},
     "output_type": "execute_result"
    }
   ],
   "source": [
    "ys_predict.head()"
   ]
  },
  {
   "cell_type": "markdown",
   "metadata": {},
   "source": [
    "El resultado anterior corresponde a las predicciones de cada observación(filas) para cada una de las 300 muestras(columnas).\n",
    "Las primeras 100 columnas son las predicciones del modelo DecisionTree sin definir la profundidad máxima, las siguientes 100 corresponden al DecisionTree con profundidad máxima=2 y las últimas 100 corresponden a las predicciones con el modelo de Regresion Logística. "
   ]
  },
  {
   "cell_type": "markdown",
   "metadata": {},
   "source": [
    "# Exercise 7.8\n",
    "\n",
    "Ensemble using majority voting\n",
    "\n",
    "Evaluate using the following metrics:\n",
    "* Accuracy\n",
    "* F1-Score"
   ]
  },
  {
   "cell_type": "code",
   "execution_count": 342,
   "metadata": {
    "scrolled": true
   },
   "outputs": [
    {
     "name": "stdout",
     "output_type": "stream",
     "text": [
      "accuracy_score Majority Voting= 0.6406666666666667\n",
      "F1_score Majority Voting= 0.6305688827964359\n"
     ]
    }
   ],
   "source": [
    "# aca calculamos las predicciones basada en las 300 muestras \n",
    "y_pred_mv = (ys_predict.sum(axis=1) >= (n_B / 2)).astype(np.int)\n",
    "#metrics.f1_score(y_pred, ys_test)\n",
    "print(\"accuracy_score Majority Voting=\",str(metrics.accuracy_score(ys_test,y_pred_mv)))\n",
    "print(\"F1_score Majority Voting=\",str(metrics.f1_score(ys_test,y_pred_mv)))"
   ]
  },
  {
   "cell_type": "markdown",
   "metadata": {},
   "source": [
    "Haciendo la estimación de stories bajo la metodología de ensemble con Majority Voting, vemos que el performance y la capacidad de predicción del modelo mejora y es mejor que cualquier estimación evaluada individualmente en los pasos anteriores  "
   ]
  },
  {
   "cell_type": "markdown",
   "metadata": {},
   "source": [
    "# Exercise 7.9\n",
    "\n",
    "Estimate te probability as %models that predict positive\n",
    "\n",
    "Modify the probability threshold and select the one that maximizes the F1-Score"
   ]
  },
  {
   "cell_type": "code",
   "execution_count": 344,
   "metadata": {},
   "outputs": [],
   "source": [
    "from sklearn.metrics import precision_recall_curve"
   ]
  },
  {
   "cell_type": "code",
   "execution_count": 351,
   "metadata": {
    "scrolled": true
   },
   "outputs": [],
   "source": [
    "ys_predict_2= (ys_predict.sum(axis=1) / n_B)\n",
    "#con la función precision_recall_curve nos devuelve una tupla de 3 componentes con la precision, la recall y el thresholds\n",
    "precision, recall, thresholds = precision_recall_curve(y_test,ys_predict_2)"
   ]
  },
  {
   "cell_type": "markdown",
   "metadata": {},
   "source": [
    "Ahora con estos coponentes calculamos el f1 score para cada observación y seleccionamos el máximo"
   ]
  },
  {
   "cell_type": "code",
   "execution_count": 353,
   "metadata": {},
   "outputs": [
    {
     "name": "stdout",
     "output_type": "stream",
     "text": [
      "F1_Score Máximo 0.701839303000968\n",
      "Thresholds Máximo= 0.10333333333333333\n"
     ]
    }
   ],
   "source": [
    "f1_calculate = 2*recall*precision/(recall+precision)\n",
    "\n",
    "print(\"F1_Score Máximo\",str(np.max(f1_calculate)))\n",
    "print(\"Thresholds Máximo=\",str(thresholds[np.argmax(f1_calculate)]))\n"
   ]
  },
  {
   "cell_type": "markdown",
   "metadata": {},
   "source": [
    " El Thresholds que maximiza el ensemble con Majority voting es de 0.1033, con esto mejora el modelo, ya que el f1_score alrededor de 7pp, llegando a niveles del 0.70"
   ]
  },
  {
   "cell_type": "markdown",
   "metadata": {},
   "source": [
    "# Exercise 7.10\n",
    "\n",
    "Ensemble using weighted voting using the oob_error\n",
    "\n",
    "Evaluate using the following metrics:\n",
    "* Accuracy\n",
    "* F1-Score"
   ]
  },
  {
   "cell_type": "code",
   "execution_count": 354,
   "metadata": {},
   "outputs": [],
   "source": [
    "samples_oob = []\n",
    "# show the \"out-of-bag\" observations for each sample\n",
    "for sample in samples:\n",
    "    samples_oob.append(sorted(set(range(n_samples)) - set(sample)))"
   ]
  },
  {
   "cell_type": "code",
   "execution_count": 358,
   "metadata": {},
   "outputs": [],
   "source": [
    "errors = np.zeros(n_B)\n",
    "    \n",
    "for i in range(n_estimators):\n",
    "    y_pred_w = models[mk[int(i/100)]].predict(xs_train.iloc[samples_oob[i]])\n",
    "    errors[i] = 1 - metrics.accuracy_score(ys_train.iloc[samples_oob[i]], y_pred_w)"
   ]
  },
  {
   "cell_type": "code",
   "execution_count": 359,
   "metadata": {},
   "outputs": [
    {
     "data": {
      "text/plain": [
       "Text(0.5, 1.0, 'OOB error of each tree')"
      ]
     },
     "execution_count": 359,
     "metadata": {},
     "output_type": "execute_result"
    },
    {
     "data": {
      "image/png": "[encoded data removed]",
      "text/plain": [
       "<Figure size 432x288 with 1 Axes>"
      ]
     },
     "metadata": {},
     "output_type": "display_data"
    }
   ],
   "source": [
    "%matplotlib inline\n",
    "import matplotlib.pyplot as plt\n",
    "plt.style.use('fivethirtyeight')\n",
    "\n",
    "plt.scatter(range(n_estimators), errors)\n",
    "plt.xlim([0, n_estimators])\n",
    "plt.title('OOB error of each tree')"
   ]
  },
  {
   "cell_type": "code",
   "execution_count": 365,
   "metadata": {},
   "outputs": [
    {
     "name": "stdout",
     "output_type": "stream",
     "text": [
      "accuracy_score weighted Voting= 0.642\n",
      "F1_score weighted Voting= 0.6319396847155586\n"
     ]
    }
   ],
   "source": [
    "alpha = (1 - errors) / (1 - errors).sum()\n",
    "weighted_sum= ((ys_predict) * alpha).sum(axis=1)\n",
    "y_pred_weighted = (weighted_sum >= 0.5).astype(np.int)\n",
    "\n",
    "print(\"accuracy_score weighted Voting=\",str(metrics.accuracy_score(ys_test,y_pred_weighted)))\n",
    "print(\"F1_score weighted Voting=\",str(metrics.f1_score(ys_test,y_pred_weighted)))"
   ]
  },
  {
   "cell_type": "markdown",
   "metadata": {},
   "source": [
    "Según los resultados de los errores, nos damos cuenta que las predicciones con menor error, son las correspondientes al primer lote(primeras 100) que corresponden al DecisionTree sin definir la profundidad máxima, en este caso al ser el mejor modelo de los 3 evaluados, en el ensemble con weighted voting estos primeros 100 árboles tendrían un peso mayor que los restantes evaluados con los otros dos modelos. Comparado con el Majority voting la mejora es mínima."
   ]
  },
  {
   "cell_type": "markdown",
   "metadata": {},
   "source": [
    "# Exercise 7.11\n",
    "\n",
    "Estimate te probability of the weighted voting\n",
    "\n",
    "Modify the probability threshold and select the one that maximizes the F1-Score"
   ]
  },
  {
   "cell_type": "code",
   "execution_count": 366,
   "metadata": {},
   "outputs": [
    {
     "data": {
      "text/plain": [
       "1483    0.935772\n",
       "2185    0.879286\n",
       "2520    0.831219\n",
       "3721    0.844264\n",
       "3727    0.084494\n",
       "dtype: float64"
      ]
     },
     "execution_count": 366,
     "metadata": {},
     "output_type": "execute_result"
    }
   ],
   "source": [
    "weighted_sum.head()"
   ]
  },
  {
   "cell_type": "code",
   "execution_count": 368,
   "metadata": {},
   "outputs": [],
   "source": [
    "#con la función precision_recall_curve nos devuelve una tupla de 3 componentes con la precision, la recall y el thresholds\n",
    "precision, recall, thresholds = precision_recall_curve(y_test,weighted_sum)"
   ]
  },
  {
   "cell_type": "markdown",
   "metadata": {},
   "source": [
    "Ahora con estos coponentes calculamos el f1 score para cada observación y seleccionamos el máximo"
   ]
  },
  {
   "cell_type": "code",
   "execution_count": 369,
   "metadata": {},
   "outputs": [
    {
     "name": "stdout",
     "output_type": "stream",
     "text": [
      "F1_Score Máximo Weighted Voting 0.7039106145251396\n",
      "Thresholds Máximo Weighted Voting= 0.14677899496104632\n"
     ]
    }
   ],
   "source": [
    "f1_calculate_w = 2*recall*precision/(recall+precision)\n",
    "\n",
    "print(\"F1_Score Máximo Weighted Voting\",str(np.max(f1_calculate_w)))\n",
    "print(\"Thresholds Máximo Weighted Voting=\",str(thresholds[np.argmax(f1_calculate_w)]))\n"
   ]
  },
  {
   "cell_type": "markdown",
   "metadata": {},
   "source": [
    "El Thresholds que maximiza el ensemble con Weighted voting es de 0.1467, con esto mejora el modelo, ya que el f1_score alrededor de 7pp, llegando a niveles del 0.7039. Los resultados de máximizar el threshold son muy similares a los del ensemble con Majority Voting"
   ]
  },
  {
   "cell_type": "markdown",
   "metadata": {},
   "source": [
    "# Exercise 7.12\n",
    "\n",
    "Estimate a logistic regression using as input the estimated classifiers\n",
    "\n",
    "Modify the probability threshold such that maximizes the F1-Score"
   ]
  },
  {
   "cell_type": "markdown",
   "metadata": {},
   "source": [
    "Ahora utilizamos el lote de las estimaciones de los clasificadores de las 300 muestras para testear los 300 modelos de regresion logística "
   ]
  },
  {
   "cell_type": "code",
   "execution_count": 370,
   "metadata": {},
   "outputs": [],
   "source": [
    "xs_train_lr = pd.DataFrame(index=xs_train.index, columns=list(range(300)))\n",
    "mk=['Dt','Dt_2','lr'] #listamos en una lista las 3 keys de mis modelos\n",
    "for i in range(300):\n",
    "    X=xs_train.iloc[samples[i], :]\n",
    "    y=ys_train.iloc[samples[i], :]\n",
    "    ml=models[mk[int(i/100)]].fit(X,y)\n",
    "    xs_train_lr[i]=ml.predict(xs_train)    "
   ]
  },
  {
   "cell_type": "code",
   "execution_count": 371,
   "metadata": {
    "scrolled": true
   },
   "outputs": [
    {
     "data": {
      "text/html": [
       "<div>\n",
       "<style scoped>\n",
       "    .dataframe tbody tr th:only-of-type {\n",
       "        vertical-align: middle;\n",
       "    }\n",
       "\n",
       "    .dataframe tbody tr th {\n",
       "        vertical-align: top;\n",
       "    }\n",
       "\n",
       "    .dataframe thead th {\n",
       "        text-align: right;\n",
       "    }\n",
       "</style>\n",
       "<table border=\"1\" class=\"dataframe\">\n",
       "  <thead>\n",
       "    <tr style=\"text-align: right;\">\n",
       "      <th></th>\n",
       "      <th>0</th>\n",
       "      <th>1</th>\n",
       "      <th>2</th>\n",
       "      <th>3</th>\n",
       "      <th>4</th>\n",
       "      <th>5</th>\n",
       "      <th>6</th>\n",
       "      <th>7</th>\n",
       "      <th>8</th>\n",
       "      <th>9</th>\n",
       "      <th>...</th>\n",
       "      <th>290</th>\n",
       "      <th>291</th>\n",
       "      <th>292</th>\n",
       "      <th>293</th>\n",
       "      <th>294</th>\n",
       "      <th>295</th>\n",
       "      <th>296</th>\n",
       "      <th>297</th>\n",
       "      <th>298</th>\n",
       "      <th>299</th>\n",
       "    </tr>\n",
       "  </thead>\n",
       "  <tbody>\n",
       "    <tr>\n",
       "      <th>2420</th>\n",
       "      <td>1</td>\n",
       "      <td>1</td>\n",
       "      <td>1</td>\n",
       "      <td>1</td>\n",
       "      <td>1</td>\n",
       "      <td>1</td>\n",
       "      <td>1</td>\n",
       "      <td>1</td>\n",
       "      <td>1</td>\n",
       "      <td>0</td>\n",
       "      <td>...</td>\n",
       "      <td>1</td>\n",
       "      <td>1</td>\n",
       "      <td>1</td>\n",
       "      <td>1</td>\n",
       "      <td>1</td>\n",
       "      <td>1</td>\n",
       "      <td>1</td>\n",
       "      <td>1</td>\n",
       "      <td>1</td>\n",
       "      <td>1</td>\n",
       "    </tr>\n",
       "    <tr>\n",
       "      <th>1225</th>\n",
       "      <td>1</td>\n",
       "      <td>1</td>\n",
       "      <td>1</td>\n",
       "      <td>1</td>\n",
       "      <td>1</td>\n",
       "      <td>0</td>\n",
       "      <td>1</td>\n",
       "      <td>1</td>\n",
       "      <td>1</td>\n",
       "      <td>1</td>\n",
       "      <td>...</td>\n",
       "      <td>1</td>\n",
       "      <td>1</td>\n",
       "      <td>1</td>\n",
       "      <td>1</td>\n",
       "      <td>1</td>\n",
       "      <td>1</td>\n",
       "      <td>1</td>\n",
       "      <td>1</td>\n",
       "      <td>1</td>\n",
       "      <td>1</td>\n",
       "    </tr>\n",
       "    <tr>\n",
       "      <th>324</th>\n",
       "      <td>0</td>\n",
       "      <td>0</td>\n",
       "      <td>1</td>\n",
       "      <td>0</td>\n",
       "      <td>0</td>\n",
       "      <td>0</td>\n",
       "      <td>0</td>\n",
       "      <td>0</td>\n",
       "      <td>0</td>\n",
       "      <td>0</td>\n",
       "      <td>...</td>\n",
       "      <td>1</td>\n",
       "      <td>1</td>\n",
       "      <td>1</td>\n",
       "      <td>1</td>\n",
       "      <td>1</td>\n",
       "      <td>1</td>\n",
       "      <td>1</td>\n",
       "      <td>1</td>\n",
       "      <td>1</td>\n",
       "      <td>1</td>\n",
       "    </tr>\n",
       "    <tr>\n",
       "      <th>5863</th>\n",
       "      <td>1</td>\n",
       "      <td>0</td>\n",
       "      <td>0</td>\n",
       "      <td>1</td>\n",
       "      <td>1</td>\n",
       "      <td>1</td>\n",
       "      <td>1</td>\n",
       "      <td>1</td>\n",
       "      <td>1</td>\n",
       "      <td>1</td>\n",
       "      <td>...</td>\n",
       "      <td>1</td>\n",
       "      <td>1</td>\n",
       "      <td>1</td>\n",
       "      <td>1</td>\n",
       "      <td>1</td>\n",
       "      <td>1</td>\n",
       "      <td>1</td>\n",
       "      <td>0</td>\n",
       "      <td>1</td>\n",
       "      <td>0</td>\n",
       "    </tr>\n",
       "    <tr>\n",
       "      <th>86</th>\n",
       "      <td>1</td>\n",
       "      <td>0</td>\n",
       "      <td>0</td>\n",
       "      <td>0</td>\n",
       "      <td>1</td>\n",
       "      <td>1</td>\n",
       "      <td>1</td>\n",
       "      <td>1</td>\n",
       "      <td>1</td>\n",
       "      <td>1</td>\n",
       "      <td>...</td>\n",
       "      <td>1</td>\n",
       "      <td>1</td>\n",
       "      <td>1</td>\n",
       "      <td>1</td>\n",
       "      <td>1</td>\n",
       "      <td>1</td>\n",
       "      <td>1</td>\n",
       "      <td>0</td>\n",
       "      <td>1</td>\n",
       "      <td>1</td>\n",
       "    </tr>\n",
       "  </tbody>\n",
       "</table>\n",
       "<p>5 rows × 300 columns</p>\n",
       "</div>"
      ],
      "text/plain": [
       "      0    1    2    3    4    5    6    7    8    9    ...  290  291  292  \\\n",
       "2420    1    1    1    1    1    1    1    1    1    0  ...    1    1    1   \n",
       "1225    1    1    1    1    1    0    1    1    1    1  ...    1    1    1   \n",
       "324     0    0    1    0    0    0    0    0    0    0  ...    1    1    1   \n",
       "5863    1    0    0    1    1    1    1    1    1    1  ...    1    1    1   \n",
       "86      1    0    0    0    1    1    1    1    1    1  ...    1    1    1   \n",
       "\n",
       "      293  294  295  296  297  298  299  \n",
       "2420    1    1    1    1    1    1    1  \n",
       "1225    1    1    1    1    1    1    1  \n",
       "324     1    1    1    1    1    1    1  \n",
       "5863    1    1    1    1    0    1    0  \n",
       "86      1    1    1    1    0    1    1  \n",
       "\n",
       "[5 rows x 300 columns]"
      ]
     },
     "execution_count": 371,
     "metadata": {},
     "output_type": "execute_result"
    }
   ],
   "source": [
    "xs_train_lr.head()"
   ]
  },
  {
   "cell_type": "code",
   "execution_count": 379,
   "metadata": {},
   "outputs": [
    {
     "data": {
      "text/plain": [
       "LogisticRegressionCV(Cs=10, class_weight=None, cv=5, dual=False,\n",
       "                     fit_intercept=True, intercept_scaling=1.0, l1_ratios=None,\n",
       "                     max_iter=100, multi_class='warn', n_jobs=None,\n",
       "                     penalty='l2', random_state=None, refit=True, scoring=None,\n",
       "                     solver='lbfgs', tol=0.0001, verbose=0)"
      ]
     },
     "execution_count": 379,
     "metadata": {},
     "output_type": "execute_result"
    }
   ],
   "source": [
    "from sklearn.linear_model import LogisticRegressionCV\n",
    "log_reg= LogisticRegressionCV(cv = 5 )\n",
    "log_reg.fit(xs_train_lr, ys_train)"
   ]
  },
  {
   "cell_type": "code",
   "execution_count": 382,
   "metadata": {},
   "outputs": [
    {
     "name": "stdout",
     "output_type": "stream",
     "text": [
      "accuracy_score_logistic_Reg_300= 0.6533333333333333\n",
      "F1_score_logistic_Reg_300= 0.6618985695708712\n"
     ]
    }
   ],
   "source": [
    "y_pred_LR = log_reg.predict(ys_predict)\n",
    "print(\"accuracy_score_logistic_Reg_300=\",str(metrics.accuracy_score(ys_test,y_pred_LR)))\n",
    "print(\"F1_score_logistic_Reg_300=\",str(metrics.f1_score(ys_test,y_pred_LR)))"
   ]
  },
  {
   "cell_type": "markdown",
   "metadata": {},
   "source": [
    "Inicialmente los modelos ajustados con Regresión Logística, tienen una capacidad de predicción buena, con un accuracy de 0.653. Ahora procedemos a maximizar el f1_score, para esto partimos de las probabilidades estimadas del modelo de LR para cada una de las observaciones "
   ]
  },
  {
   "cell_type": "code",
   "execution_count": 395,
   "metadata": {},
   "outputs": [],
   "source": [
    "y_pred_prob = log_reg.predict_proba(ys_predict)[:,1]"
   ]
  },
  {
   "cell_type": "code",
   "execution_count": 396,
   "metadata": {},
   "outputs": [
    {
     "data": {
      "text/plain": [
       "array([0.93307903, 0.82372397, 0.64302763, ..., 0.71869667, 0.33216303,\n",
       "       0.10048606])"
      ]
     },
     "execution_count": 396,
     "metadata": {},
     "output_type": "execute_result"
    }
   ],
   "source": [
    "y_pred_prob"
   ]
  },
  {
   "cell_type": "code",
   "execution_count": 397,
   "metadata": {},
   "outputs": [],
   "source": [
    "#con la función precision_recall_curve nos devuelve una tupla de 3 componentes con la precision, la recall y el thresholds\n",
    "precision, recall, thresholds = precision_recall_curve(ys_test,y_pred_prob)"
   ]
  },
  {
   "cell_type": "markdown",
   "metadata": {},
   "source": [
    "Ahora con estos coponentes calculamos el f1 score para cada observación y seleccionamos el máximo"
   ]
  },
  {
   "cell_type": "code",
   "execution_count": 398,
   "metadata": {},
   "outputs": [
    {
     "name": "stdout",
     "output_type": "stream",
     "text": [
      "F1_Score Máximo Log Reg Bagging 0.7054619703930577\n",
      "Thresholds Máximo Log Reg Bagging= 0.21079628828662014\n"
     ]
    }
   ],
   "source": [
    "f1_calculate_lr = 2*recall*precision/(recall+precision)\n",
    "\n",
    "print(\"F1_Score Máximo Log Reg Bagging\",str(np.max(f1_calculate_lr)))\n",
    "print(\"Thresholds Máximo Log Reg Bagging=\",str(thresholds[np.argmax(f1_calculate_lr)]))\n"
   ]
  },
  {
   "cell_type": "markdown",
   "metadata": {},
   "source": [
    "Para Maximizar el f1_score el treshholds óptmimo es 0.2107, con el cual obtenemos un f1_score de 0.7054"
   ]
  }
 ],
 "metadata": {
  "kernelspec": {
   "display_name": "Python 3",
   "language": "python",
   "name": "python3"
  },
  "language_info": {
   "codemirror_mode": {
    "name": "ipython",
    "version": 3
   },
   "file_extension": ".py",
   "mimetype": "text/x-python",
   "name": "python",
   "nbconvert_exporter": "python",
   "pygments_lexer": "ipython3",
   "version": "3.7.3"
  }
 },
 "nbformat": 4,
 "nbformat_minor": 1
}
